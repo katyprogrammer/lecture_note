{
 "cells": [
  {
   "cell_type": "markdown",
   "metadata": {},
   "source": [
    "# <center>Regularization in Neural Network</center>\n",
    "<center>Shan-Hung Wu & DataLab<br/>Fall 2016</center>"
   ]
  },
  {
   "cell_type": "code",
   "execution_count": 1,
   "metadata": {
    "collapsed": true
   },
   "outputs": [],
   "source": [
    "def plot_validation_history(his, fig_path):\n",
    "    train_loss = his.history['loss']\n",
    "    val_loss = his.history['val_loss']\n",
    "\n",
    "    # visualize training history\n",
    "    plt.plot(range(1, len(train_loss)+1), train_loss, color='blue', label='Train loss')\n",
    "    plt.plot(range(1, len(val_loss)+1), val_loss, color='red', label='Val loss')\n",
    "    plt.legend(loc=\"upper right\")\n",
    "    plt.xlabel('#Epoch')\n",
    "    plt.ylabel('Loss')\n",
    "    plt.savefig(fig_path, dpi=300)\n",
    "    plt.show()"
   ]
  },
  {
   "cell_type": "code",
   "execution_count": 2,
   "metadata": {
    "collapsed": false
   },
   "outputs": [
    {
     "name": "stdout",
     "output_type": "stream",
     "text": [
      "[nltk_data] Downloading package stopwords to\n",
      "[nltk_data]     /home/greyjoy/nltk_data...\n",
      "[nltk_data]   Package stopwords is already up-to-date!\n"
     ]
    }
   ],
   "source": [
    "from IPython.display import Image\n",
    "from IPython.display import display\n",
    "\n",
    "# inline plotting instead of popping out\n",
    "%matplotlib inline\n",
    "\n",
    "# load utility classes/functions that has been taught in previous labs\n",
    "# e.g., plot_decision_regions()\n",
    "import os, sys\n",
    "module_path = os.path.abspath(os.path.join('.'))\n",
    "sys.path.append(module_path)\n",
    "from lib import *"
   ]
  },
  {
   "cell_type": "markdown",
   "metadata": {},
   "source": [
    "Deep neural network with a large number of parameters is a powerful machine learning system, but overfitting is a serious issues in such networks. Deep neural network contains many non-linear hidden units and thus they can express very complicated relationships between their inputs and outputs. With limited training data, many of these relationships will be the result of sampling noise, so these relationships exist only on the training dataset, but not on the testing dataset. Large networks are slow, so it's hard for us to deal with the overfitting issues by training several networks with different architecture and combine their outputs.\n",
    "In this lab, we are going to talk about regularization in neural network.\n",
    "We will introduce some common regularization methods in deep neural network today, which is \n",
    "* Dropout\n",
    "* Weight decay\n",
    "* Maxout\n",
    "* Noise"
   ]
  },
  {
   "cell_type": "markdown",
   "metadata": {},
   "source": [
    "We will use the CIFAR-10 dataset today for our experiment. [CIFAR-10]() is a object recognition dataset of 10 class. The CIFAR-10 dataset consists of 60000 32x32 color images in 10 classes, with 6000 images per class. There are 50000 training images and 10000 test images. \n",
    "\n",
    "\n",
    "The dataset is divided into five training batches and one test batch, each with 10000 images. The test batch contains exactly 1000 randomly-selected images from each class. The training batches contain the remaining images in random order, but some training batches may contain more images from one class than another. Between them, the training batches contain exactly 5000 images from each class. \n",
    "\n",
    "Here are the classes in the dataset, as well as 10 random images from each:\n",
    "<img src=\"fig-cifar-10.png\" width=\"400\">\n",
    "\n"
   ]
  },
  {
   "cell_type": "markdown",
   "metadata": {},
   "source": [
    "# Loading and Preprocess the CIFAR-10 Dataset\n",
    "\n",
    "## Load Data\n",
    "Set the path for storing the dataset on your machine."
   ]
  },
  {
   "cell_type": "code",
   "execution_count": 3,
   "metadata": {
    "collapsed": true
   },
   "outputs": [],
   "source": [
    "import os\n",
    "from os.path import expanduser\n",
    "home = expanduser('~')\n",
    "data_path = os.path.join(home, \"data/CIFAR-10/\")\n",
    "data_url = \"https://www.cs.toronto.edu/~kriz/cifar-10-python.tar.gz\""
   ]
  },
  {
   "cell_type": "markdown",
   "metadata": {},
   "source": [
    "Set the constants for processing the dataset."
   ]
  },
  {
   "cell_type": "code",
   "execution_count": 4,
   "metadata": {
    "collapsed": false
   },
   "outputs": [],
   "source": [
    "# the width and height of out image\n",
    "img_size = 32\n",
    "# number of channels: red, green and blue\n",
    "img_channels = 3\n",
    "# length of the image after we flatten the image into a 1-dim array\n",
    "img_size_flat = img_size * img_size * img_channels\n",
    "# number of classes\n",
    "nb_classes = 10\n",
    "# number of files in the training dataset\n",
    "nb_files_train = 5\n",
    "# number of images for each batch-file in the training-set.\n",
    "images_per_file = 10000\n",
    "# number of all the images in the training dataset\n",
    "nb_images_train = nb_files_train * images_per_file"
   ]
  },
  {
   "cell_type": "markdown",
   "metadata": {},
   "source": [
    "Download and extract the file. "
   ]
  },
  {
   "cell_type": "code",
   "execution_count": 5,
   "metadata": {
    "collapsed": false
   },
   "outputs": [
    {
     "name": "stdout",
     "output_type": "stream",
     "text": [
      "Data has already been downloaded and unpacked.\n"
     ]
    }
   ],
   "source": [
    "import os\n",
    "\n",
    "# filename for saving the file downloaded from the internet.\n",
    "filename = 'cifar-10-batches-py/'\n",
    "file_path = os.path.join(data_path, filename)\n",
    "\n",
    "# if the file exists then we assume it has also been extracted,\n",
    "# otherwise we need to download and extract it now.\n",
    "if not os.path.exists(file_path):\n",
    "    # check if the download directory exists, otherwise create it.\n",
    "    if not os.path.exists(data_path):\n",
    "        os.makedirs(data_path)\n",
    "\n",
    "    # download the file from the internet.\n",
    "    file_path, _ = urllib.request.urlretrieve(url=data_url,\n",
    "                                              filename=file_path,\n",
    "                                              reporthook=_print_download_progress)\n",
    "\n",
    "    print()\n",
    "    print(\"Download finished. Extracting files.\")\n",
    "\n",
    "    if file_path.endswith(\".zip\"):\n",
    "        zipfile.ZipFile(file=file_path, mode=\"r\").extractall(download_dir)\n",
    "    elif file_path.endswith((\".tar.gz\", \".tgz\")):\n",
    "        tarfile.open(name=file_path, mode=\"r:gz\").extractall(download_dir)\n",
    "\n",
    "    print(\"Done.\")\n",
    "else:\n",
    "    print(\"Data has already been downloaded and unpacked.\")"
   ]
  },
  {
   "cell_type": "markdown",
   "metadata": {},
   "source": [
    "Load the classes name in the CIFAR-10 dataset from the metafile."
   ]
  },
  {
   "cell_type": "code",
   "execution_count": 6,
   "metadata": {
    "collapsed": false
   },
   "outputs": [
    {
     "name": "stdout",
     "output_type": "stream",
     "text": [
      "Loading data: /home/greyjoy/data/CIFAR-10/cifar-10-batches-py/batches.meta\n"
     ]
    },
    {
     "data": {
      "text/plain": [
       "['airplane',\n",
       " 'automobile',\n",
       " 'bird',\n",
       " 'cat',\n",
       " 'deer',\n",
       " 'dog',\n",
       " 'frog',\n",
       " 'horse',\n",
       " 'ship',\n",
       " 'truck']"
      ]
     },
     "execution_count": 6,
     "metadata": {},
     "output_type": "execute_result"
    }
   ],
   "source": [
    "import pickle\n",
    "\n",
    "file_path = os.path.join(data_path, \"cifar-10-batches-py/\", \"batches.meta\")\n",
    "\n",
    "print(\"Loading data: \" + file_path)\n",
    "# b means open file in byte mode\n",
    "with open(file_path, mode='rb') as file:\n",
    "    # remember to set the encoding of th file\n",
    "    data = pickle.load(file, encoding='bytes')\n",
    "\n",
    "raw = data[b'label_names']\n",
    "\n",
    "# convert from binary strings.\n",
    "class_names = [x.decode('utf-8') for x in raw]\n",
    "# class_names a list with the names.\n",
    "class_names"
   ]
  },
  {
   "cell_type": "code",
   "execution_count": 7,
   "metadata": {
    "collapsed": false
   },
   "outputs": [
    {
     "name": "stderr",
     "output_type": "stream",
     "text": [
      "Using Theano backend.\n",
      "Using gpu device 0: GeForce GTX 1070 (CNMeM is enabled with initial size: 70.0% of memory, cuDNN 5105)\n"
     ]
    },
    {
     "name": "stdout",
     "output_type": "stream",
     "text": [
      "Loading data: /home/greyjoy/data/CIFAR-10/cifar-10-batches-py/data_batch_1\n",
      "Loading data: /home/greyjoy/data/CIFAR-10/cifar-10-batches-py/data_batch_2\n",
      "Loading data: /home/greyjoy/data/CIFAR-10/cifar-10-batches-py/data_batch_3\n",
      "Loading data: /home/greyjoy/data/CIFAR-10/cifar-10-batches-py/data_batch_4\n",
      "Loading data: /home/greyjoy/data/CIFAR-10/cifar-10-batches-py/data_batch_5\n"
     ]
    }
   ],
   "source": [
    "import numpy as np\n",
    "from keras.utils import np_utils\n",
    "def load_data(file_name):\n",
    "    \"\"\"\n",
    "    Load a pickled data-file from the CIFAR-10 data-set\n",
    "    and return the converted and the class-number\n",
    "    for each image.\n",
    "    \"\"\"\n",
    "\n",
    "    file_path = os.path.join(data_path, \"cifar-10-batches-py/\", file_name)\n",
    "\n",
    "    print(\"Loading data: \" + file_path)\n",
    "\n",
    "    with open(file_path, mode='rb') as file:    \n",
    "        data = pickle.load(file, encoding='bytes')\n",
    "\n",
    "    raw_images = data[b'data']\n",
    "\n",
    "    # get the class-numbers for each image. Convert to numpy-array.\n",
    "    cls = np.array(data[b'labels'])\n",
    "\n",
    "    # convert the raw images from the data-files to floating-points.\n",
    "    raw_float = np.array(raw_images, dtype=float) / 255.0\n",
    "\n",
    "    # reshape the array to a 4-dim array with shape: [image_number, channel, height, width] where the pixels are floats between 0.0 and 1.0.\n",
    "    images = raw_float.reshape([-1, img_channels, img_size, img_size])\n",
    "\n",
    "    return images, cls\n",
    "\n",
    "def load_training_data():\n",
    "    \"\"\"\n",
    "    Load all the training-data for the CIFAR-10 data-set.\n",
    "    The data-set is split into 5 data-files which are merged here.\n",
    "    Returns the images, class-numbers and one-hot encoded class-labels.\n",
    "    \"\"\"\n",
    "\n",
    "    # pre-allocate the arrays for the images and class-numbers for efficiency.\n",
    "    images = np.zeros(shape=[nb_images_train, img_channels, img_size, img_size], dtype=float)\n",
    "    cls = np.zeros(shape=[nb_images_train], dtype=int)\n",
    "\n",
    "    # begin-index for the current batch.\n",
    "    begin = 0\n",
    "\n",
    "    for i in range(nb_files_train):\n",
    "        \n",
    "        images_batch, cls_batch = load_data(file_name=\"data_batch_\" + str(i + 1))\n",
    "        num_images = len(images_batch)\n",
    "\n",
    "        # End-index for the current batch.\n",
    "        end = begin + num_images\n",
    "\n",
    "        # store the images and class-numbers into the array.\n",
    "        images[begin:end, :] = images_batch\n",
    "        cls[begin:end] = cls_batch\n",
    "\n",
    "        # The begin-index for the next batch is the current end-index.\n",
    "        begin = end\n",
    "\n",
    "    return images, cls, np_utils.to_categorical(cls, nb_classes)\n",
    "X_train, cls_train, y_train = load_training_data()"
   ]
  },
  {
   "cell_type": "markdown",
   "metadata": {},
   "source": [
    "Load the testing dataset using similar method"
   ]
  },
  {
   "cell_type": "code",
   "execution_count": 8,
   "metadata": {
    "collapsed": false
   },
   "outputs": [
    {
     "name": "stdout",
     "output_type": "stream",
     "text": [
      "Loading data: /home/greyjoy/data/CIFAR-10/cifar-10-batches-py/test_batch\n"
     ]
    }
   ],
   "source": [
    "def load_test_data():\n",
    "    \"\"\"\n",
    "    Load all the test-data for the CIFAR-10 data-set.\n",
    "    Returns the images, class-numbers and one-hot encoded class-labels.\n",
    "    \"\"\"\n",
    "\n",
    "    images, cls = load_data(file_name=\"test_batch\")\n",
    "\n",
    "    return images, cls, np_utils.to_categorical(cls, nb_classes)\n",
    "X_test, cls_test, y_test = load_test_data()"
   ]
  },
  {
   "cell_type": "markdown",
   "metadata": {},
   "source": [
    "Print out the size of the training and testing set to check if everything is loaded correctly."
   ]
  },
  {
   "cell_type": "code",
   "execution_count": 9,
   "metadata": {
    "collapsed": false
   },
   "outputs": [
    {
     "name": "stdout",
     "output_type": "stream",
     "text": [
      "Size of:\n",
      "- Training-set:\t\t40000\n",
      "- Validation-set:\t10000\n",
      "- Test-set:\t\t10000\n"
     ]
    }
   ],
   "source": [
    "from sklearn.model_selection import train_test_split\n",
    "\n",
    "# split out validation dataset from training dataset\n",
    "X_train, X_valid, y_train, y_valid = train_test_split(X_train, y_train, test_size=0.2, random_state=0)\n",
    "\n",
    "# check data dimension\n",
    "print(\"Size of:\")\n",
    "print(\"- Training-set:\\t\\t{}\".format(len(X_train)))\n",
    "print(\"- Validation-set:\\t{}\".format(len(X_valid)))\n",
    "print(\"- Test-set:\\t\\t{}\".format(len(X_test)))"
   ]
  },
  {
   "cell_type": "markdown",
   "metadata": {},
   "source": [
    "Now our dataset is ready! Now I am going to introduce the architecture we will be working with today. \n",
    "Before, we have been working with regular neural network where each hidden layer is made up of a set of neurons, and each neuron is fully connected to all neurons in the previous layer.\n",
    "Fully-connected neural network does’t do well on images. In CIFAR-10, images are only of size 3x32x32 (32 wide, 32 high, 3 color channels), so a single fully-connected neuron in a first hidden layer of a regular Neural Network would have 32*32*3 = 3072 weights. This amount might still seems manageable, but what if today we want to working bigger imaage with size, e.g. 3*256*256, would lead to neurons that have 196,608 weights. Moreover, we usually will have at least a few hundreds neurons for one layer and several layers. The weights add up very quickly this way! Therefore, it will take a long time to train the model, and the model might have serious over fitting issues. Convolutional neural network helps us saving lots of parameter.\n"
   ]
  },
  {
   "cell_type": "markdown",
   "metadata": {},
   "source": [
    "# Layers\n",
    "\n",
    "To sum up, the architecure follows the pattern INPUT -> [[CONV -> RELU]*N -> POOL?]*M -> [DENSE -> RELU]*K -> OUTPUT\n",
    "\n",
    "INPUT [3x32x32] will hold the raw pixel values of the image(img_channels, img_width, img_height)\n",
    "CONV layer will compute the output of neurons that are connected to local regions in the input, each computing a dot product between their weights and a small region they are connected to in the input volume. This may result in volume such as [32x32x12] if we decided to use 12 filters.\n",
    "RELU layer will apply an elementwise activation function, such as the $max(0,x)$ This leaves the size of the volume unchanged ([32x32x12]).\n",
    "POOL layer will perform a downsampling operation along the spatial dimensions (width, height), resulting in volume such as [16x16x12].\n",
    "FLATTEN layer will flatten the input_matrix into volumn [1x1x(number_of_elements_on_last_layer_output))]\n",
    "DENSE layer will map the input into volumn [1x1x(number_of_neuron_in_DENSE_layer)]. Each neuron in this layer will be connected to all the numbers in the previous volume.\n",
    "OUTPUT layer will compute the class scores, resulting in volume of size [1x1x10], where each numbers correspond to a class score, such as among the 10 categories of CIFAR-10. \n"
   ]
  },
  {
   "cell_type": "markdown",
   "metadata": {
    "collapsed": true
   },
   "source": [
    "## Convolutional Layers\n",
    "The CONV layer’s parameters consist of a set of filters with learnable weights. Every filter is small spatially (along width and height), but extends through the full depth of the input volume. During the forward pass, we slide each filter across the width and height of the input volume and compute dot products between the entries of the filter and the input at any position. As we slide the filter over the width and height of the input volume we will produce a 2-dimensional activation map that gives the responses of that filter at every spatial position. Intuitively, the network will learn filters that activate when they see some type of visual feature such as an edge of some orientation or a blotch of some color on the first layer, or contour on higher layers of the network. Now, we will have an entire set of filters in each CONV layer (e.g. 12 filters), and each of them will produce a separate 2-dimensional activation map. We will stack these activation maps along the depth dimension and produce the output volume.\n",
    "\n",
    "When dealing with high-dimensional inputs such as images, as we saw above it is impractical to connect neurons to all neurons in the previous volume. Instead, we will connect each neuron to only a local region of the input volume. The spatial extent of this connectivity is a hyperparameter called the receptive field of the neuron (equivalently this is the filter size). The extent of the connectivity along the depth axis is always equal to the depth of the input volume. The connections are local in space (along width and height), but always full along the entire depth of the input volume.\n",
    "<img src=\"fig-volumn.png\" width=\"800\">\n",
    "<img src=\"fig-spatial-arrangement.png\" width=\"800\">"
   ]
  },
  {
   "cell_type": "markdown",
   "metadata": {},
   "source": [
    "# Pooling layers\n",
    "It is common to periodically insert a Pooling layer in-between convolutional layers in a convolutional neural network architecture. Its function is to reduce the spatial size of the representation to reduce the amount of parameters and computation in the network, and hence to also control overfitting. The Pooling Layer operates and resizes every depth slice of the inpu spatially, using the MAX operation. The most common form is a pooling layer with filters of size 2x2 applied with a stride of 2 downsamples every depth slice in the input by 2 along both width and height, discarding 75% of the activations. Every MAX operation in this case be take a max over 4 numbers (little 2x2 region in some depth slice). The depth dimension remains unchanged.\n",
    "here is a figure explaining how pooling layers works:\n",
    "<img src=\"fig-maxpooling.png\" width=\"800\">"
   ]
  },
  {
   "cell_type": "markdown",
   "metadata": {},
   "source": [
    "## Layer Size Patterns\n",
    "\n",
    "The conv layers should be using small filters (e.g. 3x3), using a stride of S=1, and crucially, padding the input volume with zeros in such way that the conv layer does not alter the spatial dimensions of the input. That is, when F=3, then using P=1 will retain the original size of the input. When F=5, P=2. P=(F−1)/2 preserves the input size.\n",
    "\n",
    "The pool layers are in charge of downsampling the spatial dimensions of the input. The most common setting is to use max-pooling with 2x2 receptive fields (i.e. F=2), and with a stride of 2 (i.e. S=2). Note that this discards exactly 75% of the activations in an input volume (due to downsampling by 2 in both width and height). Another slightly less common setting is to use 3x3 receptive fields with a stride of 2, but this makes. It is very uncommon to see receptive field sizes for max pooling that are larger than 3 because the pooling is then too lossy and aggressive. This usually leads to worse performance.\n",
    "\n",
    "It's easier when you keep the conv layers preserver the spacial size and let te pool layers do all the downsampling job, so that you don't have to check the input voluns throughout each layer to make sure the convolutional network structure wire up.\n",
    "\n",
    "below is the code of our model:"
   ]
  },
  {
   "cell_type": "code",
   "execution_count": 9,
   "metadata": {
    "collapsed": false
   },
   "outputs": [
    {
     "name": "stdout",
     "output_type": "stream",
     "text": [
      "____________________________________________________________________________________________________\n",
      "Layer (type)                     Output Shape          Param #     Connected to                     \n",
      "====================================================================================================\n",
      "convolution2d_1 (Convolution2D)  (None, 32, 32, 32)    896         convolution2d_input_1[0][0]      \n",
      "____________________________________________________________________________________________________\n",
      "convolution2d_2 (Convolution2D)  (None, 32, 32, 32)    9248        convolution2d_1[0][0]            \n",
      "____________________________________________________________________________________________________\n",
      "maxpooling2d_1 (MaxPooling2D)    (None, 32, 16, 16)    0           convolution2d_2[0][0]            \n",
      "____________________________________________________________________________________________________\n",
      "convolution2d_3 (Convolution2D)  (None, 64, 16, 16)    18496       maxpooling2d_1[0][0]             \n",
      "____________________________________________________________________________________________________\n",
      "maxpooling2d_2 (MaxPooling2D)    (None, 64, 8, 8)      0           convolution2d_3[0][0]            \n",
      "____________________________________________________________________________________________________\n",
      "convolution2d_4 (Convolution2D)  (None, 128, 8, 8)     73856       maxpooling2d_2[0][0]             \n",
      "____________________________________________________________________________________________________\n",
      "convolution2d_5 (Convolution2D)  (None, 128, 8, 8)     147584      convolution2d_4[0][0]            \n",
      "____________________________________________________________________________________________________\n",
      "maxpooling2d_3 (MaxPooling2D)    (None, 128, 4, 4)     0           convolution2d_5[0][0]            \n",
      "____________________________________________________________________________________________________\n",
      "flatten_1 (Flatten)              (None, 2048)          0           maxpooling2d_3[0][0]             \n",
      "____________________________________________________________________________________________________\n",
      "dense_1 (Dense)                  (None, 1024)          2098176     flatten_1[0][0]                  \n",
      "____________________________________________________________________________________________________\n",
      "dense_2 (Dense)                  (None, 512)           524800      dense_1[0][0]                    \n",
      "____________________________________________________________________________________________________\n",
      "dense_3 (Dense)                  (None, 10)            5130        dense_2[0][0]                    \n",
      "====================================================================================================\n",
      "Total params: 2878186\n",
      "____________________________________________________________________________________________________\n",
      "None\n",
      "Train on 40000 samples, validate on 10000 samples\n",
      "Epoch 1/25\n",
      "40000/40000 [==============================] - 7s - loss: 1.7589 - acc: 0.3594 - val_loss: 1.4285 - val_acc: 0.4762\n",
      "Epoch 2/25\n",
      "40000/40000 [==============================] - 7s - loss: 1.2627 - acc: 0.5460 - val_loss: 1.1756 - val_acc: 0.5855\n",
      "Epoch 3/25\n",
      "40000/40000 [==============================] - 7s - loss: 0.9973 - acc: 0.6461 - val_loss: 0.9678 - val_acc: 0.6649\n",
      "Epoch 4/25\n",
      "40000/40000 [==============================] - 7s - loss: 0.7953 - acc: 0.7198 - val_loss: 0.9196 - val_acc: 0.6828\n",
      "Epoch 5/25\n",
      "40000/40000 [==============================] - 7s - loss: 0.6246 - acc: 0.7819 - val_loss: 0.8726 - val_acc: 0.7070\n",
      "Epoch 6/25\n",
      "40000/40000 [==============================] - 7s - loss: 0.4778 - acc: 0.8331 - val_loss: 0.8376 - val_acc: 0.7258\n",
      "Epoch 7/25\n",
      "40000/40000 [==============================] - 7s - loss: 0.3265 - acc: 0.8861 - val_loss: 1.0136 - val_acc: 0.6928\n",
      "Epoch 8/25\n",
      "40000/40000 [==============================] - 7s - loss: 0.2050 - acc: 0.9289 - val_loss: 1.0506 - val_acc: 0.7249\n",
      "Epoch 9/25\n",
      "40000/40000 [==============================] - 7s - loss: 0.1135 - acc: 0.9625 - val_loss: 1.2233 - val_acc: 0.7244\n",
      "Epoch 10/25\n",
      "40000/40000 [==============================] - 7s - loss: 0.0619 - acc: 0.9804 - val_loss: 1.3950 - val_acc: 0.7275\n",
      "Epoch 11/25\n",
      "40000/40000 [==============================] - 7s - loss: 0.0340 - acc: 0.9896 - val_loss: 1.4938 - val_acc: 0.7343\n",
      "Epoch 12/25\n",
      "40000/40000 [==============================] - 7s - loss: 0.0127 - acc: 0.9970 - val_loss: 1.6174 - val_acc: 0.7435\n",
      "Epoch 13/25\n",
      "40000/40000 [==============================] - 7s - loss: 0.0062 - acc: 0.9988 - val_loss: 1.7019 - val_acc: 0.7380\n",
      "Epoch 14/25\n",
      "40000/40000 [==============================] - 7s - loss: 9.9511e-04 - acc: 1.0000 - val_loss: 1.7558 - val_acc: 0.7430\n",
      "Epoch 15/25\n",
      "40000/40000 [==============================] - 7s - loss: 4.5694e-04 - acc: 1.0000 - val_loss: 1.8116 - val_acc: 0.7422\n",
      "Epoch 16/25\n",
      "40000/40000 [==============================] - 7s - loss: 3.2537e-04 - acc: 1.0000 - val_loss: 1.8404 - val_acc: 0.7428\n",
      "Epoch 17/25\n",
      "40000/40000 [==============================] - 7s - loss: 2.6403e-04 - acc: 1.0000 - val_loss: 1.8665 - val_acc: 0.7421\n",
      "Epoch 18/25\n",
      "40000/40000 [==============================] - 7s - loss: 2.2658e-04 - acc: 1.0000 - val_loss: 1.8889 - val_acc: 0.7431\n",
      "Epoch 19/25\n",
      "40000/40000 [==============================] - 7s - loss: 1.9863e-04 - acc: 1.0000 - val_loss: 1.9051 - val_acc: 0.7429\n",
      "Epoch 20/25\n",
      "40000/40000 [==============================] - 7s - loss: 1.7892e-04 - acc: 1.0000 - val_loss: 1.9200 - val_acc: 0.7434\n",
      "Epoch 21/25\n",
      "40000/40000 [==============================] - 7s - loss: 1.6371e-04 - acc: 1.0000 - val_loss: 1.9317 - val_acc: 0.7444\n",
      "Epoch 22/25\n",
      "40000/40000 [==============================] - 7s - loss: 1.5132e-04 - acc: 1.0000 - val_loss: 1.9423 - val_acc: 0.7436\n",
      "Epoch 23/25\n",
      "40000/40000 [==============================] - 7s - loss: 1.4101e-04 - acc: 1.0000 - val_loss: 1.9527 - val_acc: 0.7441\n",
      "Epoch 24/25\n",
      "40000/40000 [==============================] - 7s - loss: 1.3239e-04 - acc: 1.0000 - val_loss: 1.9616 - val_acc: 0.7440\n",
      "Epoch 25/25\n",
      "40000/40000 [==============================] - 7s - loss: 1.2498e-04 - acc: 1.0000 - val_loss: 1.9695 - val_acc: 0.7439\n",
      "CPU times: user 2min 47s, sys: 30.7 s, total: 3min 18s\n",
      "Wall time: 3min 9s\n",
      " 9984/10000 [============================>.] - ETA: 0s\n",
      "Test loss: 2.073\n",
      "Test accuracy: 0.733\n"
     ]
    }
   ],
   "source": [
    "from keras.models import Sequential\n",
    "from keras.layers import Dense, Dropout, Activation, Flatten\n",
    "from keras.layers import Convolution2D, MaxPooling2D, GaussianNoise, MaxoutDense\n",
    "from keras.constraints import maxnorm\n",
    "from keras.regularizers import l1, l2\n",
    "from keras.optimizers import SGD\n",
    "import matplotlib.pyplot as plt\n",
    "import sys\n",
    "import os\n",
    "import time\n",
    "\n",
    "# here are some settings for the network\n",
    "batch_size = 32\n",
    "nb_epoch = 25\n",
    "\n",
    "\n",
    "model = Sequential()\n",
    "model.add(Convolution2D(32, 3, 3, input_shape=(3, 32, 32), activation='relu', border_mode='same'))\n",
    "model.add(Convolution2D(32, 3, 3, activation='relu', border_mode='same'))\n",
    "model.add(MaxPooling2D(pool_size=(2, 2)))\n",
    "model.add(Convolution2D(64, 3, 3, activation='relu', border_mode='same'))\n",
    "model.add(MaxPooling2D(pool_size=(2, 2)))\n",
    "model.add(Convolution2D(128, 3, 3, activation='relu', border_mode='same'))\n",
    "model.add(Convolution2D(128, 3, 3, activation='relu', border_mode='same'))\n",
    "model.add(MaxPooling2D(pool_size=(2, 2)))\n",
    "# flatten the input for feeding into Dense layer\n",
    "model.add(Flatten())\n",
    "model.add(Dense(1024, activation='relu'))\n",
    "model.add(Dense(512, activation='relu'))\n",
    "# output layer\n",
    "model.add(Dense(nb_classes, activation='softmax'))\n",
    "\n",
    "# compile model\n",
    "lrate = 0.01\n",
    "decay = lrate/nb_epoch\n",
    "sgd = SGD(lr=lrate, momentum=0.9, decay=decay, nesterov=False)\n",
    "model.compile(loss='categorical_crossentropy', optimizer=sgd, metrics=['accuracy'])\n",
    "# this is a useful function for inspecting the output shape and the number of parameter of the model\n",
    "print(model.summary())\n",
    "\n",
    "start_time = time.time()\n",
    "%time his = model.fit(X_train, y_train, \\\n",
    "          batch_size=batch_size, \\\n",
    "          nb_epoch=nb_epoch, \\\n",
    "          validation_data=(X_valid, y_valid), \\\n",
    "          shuffle=True) \\\n",
    "\n",
    "# evaluate our model\n",
    "score = model.evaluate(X_test, y_test, verbose=1)\n",
    "print('\\nTest loss: %.3f' % score[0])\n",
    "print('Test accuracy: %.3f' % score[1])\n"
   ]
  },
  {
   "cell_type": "code",
   "execution_count": 15,
   "metadata": {
    "collapsed": false,
    "scrolled": true
   },
   "outputs": [
    {
     "data": {
      "image/png": "[encoded data removed]",
      "text/plain": [
       "<matplotlib.figure.Figure at 0x7fc9db9166d8>"
      ]
     },
     "metadata": {},
     "output_type": "display_data"
    }
   ],
   "source": [
    "plot_validation_history(his, './output/fig-nn-val-baseline.png')"
   ]
  },
  {
   "cell_type": "markdown",
   "metadata": {},
   "source": [
    "Apparently we are having the issues of over fitting here. It's a chance for us to learn some regularizations technique here."
   ]
  },
  {
   "cell_type": "markdown",
   "metadata": {},
   "source": [
    "# Dropout\n",
    "Dropout is designed by Geoffrey Hinton.\n",
    "The key idea is to randomly drop some units from the neural network during training, so that the neuron have to function well on its own instead of relying on other neurons. (Just like when you know your teammate is not that reliable, you have to take more responsibility)\n",
    "In a standard neural network, the derivative received by each parameter tells it how it should change so the final loss function is reduced, given what all other units are doing. Therefore, units may change in a way that they fix up the mistakes of the other units. This may lead to complex co-adaptations.\n",
    "Applying dropout to a neural network amounts to sampling a “thinned” network from it. The thinned network consists of all the units that are not dropped out (Figure b). A neural net with $n$ units, can be seen as a collection of  possible thinned neural networks. For each presentation of each training case, a new thinned network is sampled and trained."
   ]
  },
  {
   "cell_type": "markdown",
   "metadata": {},
   "source": [
    "The following figures illustrate the architecture:\n",
    "\n",
    "<img src=\"fig-dropout.png\" width=\"600\">\n",
    "<img src=\"fig-ensemble-of-subnetworks.png\" width=\"600\">\n"
   ]
  },
  {
   "cell_type": "markdown",
   "metadata": {},
   "source": [
    "The choice of which units to drop is random. In the simplest case, each unit is retained with a fixed probability $p$ independent of other units, where $p$ can be chosen using a validation set or can simply be set at 0.5, which seems to be close to optimal for a wide range of networks and tasks.\n",
    "At test time, it is not feasible to explicitly average the predictions from exponentially many thinned models. A very simple approximate averaging method works well in practice. The idea is to use a single neural net at test time **without dropout**. If a unit is retained with probability $p$ during training, the outgoing weights of that unit are multiplied by $p$ at test time as shown in the figure below. This is to ensure that for any hidden unit the expected output (under the distribution used to drop units at training time) is the same as the actual output at test time.\n",
    "<img src=\"fig-weight.png\" width=\"600\">"
   ]
  },
  {
   "cell_type": "markdown",
   "metadata": {},
   "source": [
    "Let's wrap our code into a function with all kinds of regularization method, also, we plug in max pooling layer between convolutional layer"
   ]
  },
  {
   "cell_type": "code",
   "execution_count": 11,
   "metadata": {
    "collapsed": false
   },
   "outputs": [],
   "source": [
    "from keras.models import Sequential\n",
    "from keras.layers import Dense, Dropout, Activation, Flatten\n",
    "from keras.layers import Convolution2D, MaxPooling2D, GaussianNoise, MaxoutDense\n",
    "from keras.constraints import maxnorm\n",
    "from keras.regularizers import l1, l2\n",
    "from keras.optimizers import SGD\n",
    "import matplotlib.pyplot as plt\n",
    "import sys\n",
    "import os\n",
    "import time\n",
    "\n",
    "\n",
    "# here are some settings for the network\n",
    "batch_size = 32\n",
    "nb_epoch = 25\n",
    "\n",
    "def gen_nn(dropout=False, maxout=False, weight_constraint=False, l2_reg=False, l2_coef=0.1, l1_reg=False, l1_coef=0.005):\n",
    "    \"\"\"\n",
    "    Create a model according to the specification.\n",
    "    \"\"\"\n",
    "        \n",
    "    model = Sequential()\n",
    "    model.add(Convolution2D(32, 3, 3, input_shape=(3, 32, 32), activation='relu', border_mode='same'))\n",
    "    if dropout:\n",
    "        model.add(Dropout(0.2))\n",
    "    model.add(Convolution2D(32, 3, 3, activation='relu', border_mode='same'))\n",
    "    model.add(MaxPooling2D(pool_size=(2, 2)))\n",
    "    if dropout:\n",
    "        model.add(Dropout(0.2))\n",
    "    model.add(Convolution2D(64, 3, 3, activation='relu', border_mode='same'))\n",
    "    model.add(MaxPooling2D(pool_size=(2, 2)))\n",
    "    model.add(Convolution2D(128, 3, 3, activation='relu', border_mode='same'))\n",
    "    if dropout:\n",
    "        model.add(Dropout(0.2))\n",
    "    model.add(Convolution2D(128, 3, 3, activation='relu', border_mode='same'))\n",
    "    model.add(MaxPooling2D(pool_size=(2, 2)))\n",
    "    model.add(Flatten())\n",
    "    \n",
    "    if dropout:\n",
    "        model.add(Dropout(0.2))\n",
    "        \n",
    "    if l2_reg:\n",
    "        model.add(Dense(1024, activation='relu', W_regularizer=l2(l2_coef)))  \n",
    "    elif l1_reg:\n",
    "        model.add(Dense(1024, activation='relu', W_regularizer=l1(l1_coef)))          \n",
    "    elif weight_constraint:\n",
    "        model.add(Dense(1024, activation='relu', W_constraint=maxnorm(3)))\n",
    "    elif maxout:\n",
    "        model.add(MaxoutDense(1024, nb_feature=2, init='glorot_uniform'))\n",
    "    else:\n",
    "        model.add(Dense(1024, activation='relu'))\n",
    "\n",
    "    if dropout:\n",
    "        model.add(Dropout(0.5))\n",
    "        \n",
    "    if l2_reg:\n",
    "        model.add(Dense(512, activation='relu', W_regularizer=l2(l2_coef)))  \n",
    "    elif l1_reg:\n",
    "        model.add(Dense(512, activation='relu', W_regularizer=l1(l1_coef)))         \n",
    "    elif weight_constraint:\n",
    "        model.add(Dense(512, activation='relu', W_constraint=maxnorm(3)))\n",
    "    elif maxout:\n",
    "        model.add(MaxoutDense(512, nb_feature=4, init='glorot_uniform'))\n",
    "    else:\n",
    "        model.add(Dense(512, activation='relu'))\n",
    "        \n",
    "    if dropout:\n",
    "        model.add(Dropout(0.5))\n",
    "    # output layer    \n",
    "    model.add(Dense(nb_classes, activation='softmax'))\n",
    "    # compile model\n",
    "    lrate = 0.01\n",
    "    decay = lrate/nb_epoch\n",
    "    sgd = SGD(lr=lrate, momentum=0.9, decay=decay, nesterov=False)\n",
    "    model.compile(loss='categorical_crossentropy', optimizer=sgd, metrics=['accuracy'])\n",
    "    return model"
   ]
  },
  {
   "cell_type": "code",
   "execution_count": 10,
   "metadata": {
    "collapsed": false
   },
   "outputs": [
    {
     "name": "stdout",
     "output_type": "stream",
     "text": [
      "Train on 40000 samples, validate on 10000 samples\n",
      "Epoch 1/25\n",
      "40000/40000 [==============================] - 7s - loss: 2.0060 - acc: 0.2452 - val_loss: 1.6710 - val_acc: 0.3694\n",
      "Epoch 2/25\n",
      "40000/40000 [==============================] - 7s - loss: 1.6325 - acc: 0.3913 - val_loss: 1.4849 - val_acc: 0.4558\n",
      "Epoch 3/25\n",
      "40000/40000 [==============================] - 7s - loss: 1.4355 - acc: 0.4748 - val_loss: 1.3180 - val_acc: 0.5136\n",
      "Epoch 4/25\n",
      "40000/40000 [==============================] - 7s - loss: 1.3064 - acc: 0.5275 - val_loss: 1.1985 - val_acc: 0.5663\n",
      "Epoch 5/25\n",
      "40000/40000 [==============================] - 7s - loss: 1.1991 - acc: 0.5686 - val_loss: 1.0979 - val_acc: 0.6065\n",
      "Epoch 6/25\n",
      "40000/40000 [==============================] - 7s - loss: 1.1008 - acc: 0.6079 - val_loss: 1.0391 - val_acc: 0.6301\n",
      "Epoch 7/25\n",
      "40000/40000 [==============================] - 7s - loss: 1.0315 - acc: 0.6309 - val_loss: 0.9448 - val_acc: 0.6652\n",
      "Epoch 8/25\n",
      "40000/40000 [==============================] - 7s - loss: 0.9637 - acc: 0.6583 - val_loss: 0.9064 - val_acc: 0.6786\n",
      "Epoch 9/25\n",
      "40000/40000 [==============================] - 7s - loss: 0.9096 - acc: 0.6770 - val_loss: 0.8693 - val_acc: 0.6966\n",
      "Epoch 10/25\n",
      "40000/40000 [==============================] - 7s - loss: 0.8675 - acc: 0.6914 - val_loss: 0.8076 - val_acc: 0.7198\n",
      "Epoch 11/25\n",
      "40000/40000 [==============================] - 7s - loss: 0.8293 - acc: 0.7082 - val_loss: 0.8017 - val_acc: 0.7223\n",
      "Epoch 12/25\n",
      "40000/40000 [==============================] - 7s - loss: 0.7926 - acc: 0.7214 - val_loss: 0.7496 - val_acc: 0.7367\n",
      "Epoch 13/25\n",
      "40000/40000 [==============================] - 7s - loss: 0.7667 - acc: 0.7290 - val_loss: 0.7371 - val_acc: 0.7415\n",
      "Epoch 14/25\n",
      "40000/40000 [==============================] - 7s - loss: 0.7444 - acc: 0.7390 - val_loss: 0.7326 - val_acc: 0.7437\n",
      "Epoch 15/25\n",
      "40000/40000 [==============================] - 7s - loss: 0.7207 - acc: 0.7468 - val_loss: 0.7285 - val_acc: 0.7482\n",
      "Epoch 16/25\n",
      "40000/40000 [==============================] - 7s - loss: 0.6945 - acc: 0.7554 - val_loss: 0.7322 - val_acc: 0.7473\n",
      "Epoch 17/25\n",
      "40000/40000 [==============================] - 7s - loss: 0.6819 - acc: 0.7591 - val_loss: 0.7043 - val_acc: 0.7575\n",
      "Epoch 18/25\n",
      "40000/40000 [==============================] - 7s - loss: 0.6645 - acc: 0.7669 - val_loss: 0.6813 - val_acc: 0.7619\n",
      "Epoch 19/25\n",
      "40000/40000 [==============================] - 7s - loss: 0.6437 - acc: 0.7737 - val_loss: 0.6572 - val_acc: 0.7735\n",
      "Epoch 20/25\n",
      "40000/40000 [==============================] - 7s - loss: 0.6322 - acc: 0.7776 - val_loss: 0.6493 - val_acc: 0.7710\n",
      "Epoch 21/25\n",
      "40000/40000 [==============================] - 7s - loss: 0.6230 - acc: 0.7786 - val_loss: 0.6538 - val_acc: 0.7759\n",
      "Epoch 22/25\n",
      "40000/40000 [==============================] - 7s - loss: 0.6076 - acc: 0.7877 - val_loss: 0.6432 - val_acc: 0.7772\n",
      "Epoch 23/25\n",
      "40000/40000 [==============================] - 7s - loss: 0.5923 - acc: 0.7920 - val_loss: 0.6384 - val_acc: 0.7821\n",
      "Epoch 24/25\n",
      "40000/40000 [==============================] - 7s - loss: 0.5809 - acc: 0.7975 - val_loss: 0.6296 - val_acc: 0.7847\n",
      "Epoch 25/25\n",
      "40000/40000 [==============================] - 7s - loss: 0.5709 - acc: 0.8015 - val_loss: 0.6213 - val_acc: 0.7856\n",
      "CPU times: user 3min, sys: 32.9 s, total: 3min 32s\n",
      "Wall time: 3min 27s\n",
      "\n",
      "Test loss: 0.638\n",
      "Test accuracy: 0.779\n"
     ]
    }
   ],
   "source": [
    "dropout_model = gen_nn(dropout=True)\n",
    "%time dropout_his = dropout_model.fit(X_train, y_train, \\\n",
    "          batch_size=batch_size, \\\n",
    "          nb_epoch=nb_epoch, \\\n",
    "          validation_data=(X_valid, y_valid), \\\n",
    "          shuffle=True) \\\n",
    "\n",
    "# evaluate our model\n",
    "score = dropout_model.evaluate(X_test, y_test, verbose=0)\n",
    "print('\\nTest loss: %.3f' % score[0])\n",
    "print('Test accuracy: %.3f' % score[1])"
   ]
  },
  {
   "cell_type": "code",
   "execution_count": 77,
   "metadata": {
    "collapsed": false,
    "scrolled": true
   },
   "outputs": [
    {
     "data": {
      "image/png": "[encoded data removed]",
      "text/plain": [
       "<matplotlib.figure.Figure at 0x7fa448aa15c0>"
      ]
     },
     "metadata": {},
     "output_type": "display_data"
    }
   ],
   "source": [
    "plot_validation_history(dropout_his, './output/fig-nn-val-dropout.png')"
   ]
  },
  {
   "cell_type": "code",
   "execution_count": null,
   "metadata": {
    "collapsed": true
   },
   "outputs": [],
   "source": [
    "We can see the dropout has a signifanct effect on the result!"
   ]
  },
  {
   "cell_type": "markdown",
   "metadata": {},
   "source": [
    "# Weight Decay\n",
    "Remember we talked about weight decay before? We can penalize large weights using penalties or constraints on their squared values (L2 penalty) or absolute values (L1 penalty).\n",
    "We specify in l1/l2 regularities by passing a regularizer to the layer.\n",
    "```\n",
    "from keras.regularizers import l1, l2 \n",
    "model.add(Dense(64, input_dim=64, W_regularizer=l2(0.01)))\n",
    "```\n",
    "\n",
    "## L1 weight cost\n",
    "\n",
    "l1 regularizer will result in a lot of zeros in the weight.\n",
    "\n",
    "\n",
    "## L2 weight cost\n",
    "\n",
    "This can often improve generalization a lot because it helps to stop the network from fitting the sampling errorm and it makes a smoother model in which the output changes more slowly as the input changes.\n",
    "\n",
    "We can gain some insight into the behavior of weight decay regularization by studying the gradient of the regularized objective function. To simplify the presentation, we assume no bias parameter. Such a model has the following total objective function: ˜\n",
    "\n",
    "$$\\tilde{J}(\\mathbf{w};\\mathbf{X},\\mathbf{y})==\\frac{\\alpha}{2}\\mathbf{w}^{T}\\mathbf{w}+J(\\mathbf{w};\\mathbf{X},\\mathbf{y}),$$\n",
    "\n",
    "with the corresponding parameter gradient\n",
    "\n",
    "$$\\text{∇}_{\\mathbf{w}}\\tilde{J}(\\mathbf{w};\\mathbf{X},\\mathbf{y})=α\\mathbf{w}+\\text{∇}_{\\mathbf{w}}J(\\mathbf{w};\\mathbf{X},\\mathbf{y}).$$\n",
    "\n",
    "To take a single gradient step to update the weights, we perform this update:\n",
    "\n",
    "$$\\mathbf{w}←\\mathbf{w}−(α\\mathbf{w}+∇_{\\mathbf{w}}J(\\mathbf{w};\\mathbf{X},\\mathbf{y})).$$\n",
    "\n",
    "Written another way, the update is: \n",
    "\n",
    "$$\\mathbf{w}←(1−α)\\mathbf{w}−∇_{\\mathbf{w}}J(\\mathbf{w};\\mathbf{X},\\mathbf{y})\\Theta$$\n",
    "\n",
    "We can see that the addition of the weight decay term has modiﬁed the learning\n",
    "rule to multiplicatively shrink the weight vector by a constant factor on each step,\n",
    "just before performing the usual gradient update."
   ]
  },
  {
   "cell_type": "code",
   "execution_count": 12,
   "metadata": {
    "collapsed": false
   },
   "outputs": [
    {
     "name": "stdout",
     "output_type": "stream",
     "text": [
      "Train on 40000 samples, validate on 10000 samples\n",
      "Epoch 1/25\n",
      "40000/40000 [==============================] - 11s - loss: 5.9757 - acc: 0.3454 - val_loss: 1.4880 - val_acc: 0.4561\n",
      "Epoch 2/25\n",
      "40000/40000 [==============================] - 11s - loss: 2.0943 - acc: 0.5264 - val_loss: 1.1915 - val_acc: 0.5713\n",
      "Epoch 3/25\n",
      "40000/40000 [==============================] - 11s - loss: 1.3967 - acc: 0.6091 - val_loss: 1.0558 - val_acc: 0.6207\n",
      "Epoch 4/25\n",
      "40000/40000 [==============================] - 11s - loss: 1.1219 - acc: 0.6767 - val_loss: 0.8825 - val_acc: 0.6915\n",
      "Epoch 5/25\n",
      "40000/40000 [==============================] - 11s - loss: 0.9575 - acc: 0.7258 - val_loss: 0.8523 - val_acc: 0.7037\n",
      "Epoch 6/25\n",
      "40000/40000 [==============================] - 11s - loss: 0.8391 - acc: 0.7721 - val_loss: 0.7811 - val_acc: 0.7270\n",
      "Epoch 7/25\n",
      "40000/40000 [==============================] - 11s - loss: 0.7505 - acc: 0.8092 - val_loss: 0.7600 - val_acc: 0.7435\n",
      "Epoch 8/25\n",
      "40000/40000 [==============================] - 11s - loss: 0.6748 - acc: 0.8385 - val_loss: 0.7940 - val_acc: 0.7374\n",
      "Epoch 9/25\n",
      "40000/40000 [==============================] - 11s - loss: 0.5904 - acc: 0.8766 - val_loss: 0.8412 - val_acc: 0.7379\n",
      "Epoch 10/25\n",
      "40000/40000 [==============================] - 11s - loss: 0.5228 - acc: 0.9067 - val_loss: 0.8684 - val_acc: 0.7361\n",
      "Epoch 11/25\n",
      "40000/40000 [==============================] - 11s - loss: 0.4770 - acc: 0.9293 - val_loss: 0.9365 - val_acc: 0.7339\n",
      "Epoch 12/25\n",
      "40000/40000 [==============================] - 11s - loss: 0.4355 - acc: 0.9453 - val_loss: 0.9852 - val_acc: 0.7256\n",
      "Epoch 13/25\n",
      "40000/40000 [==============================] - 11s - loss: 0.3956 - acc: 0.9589 - val_loss: 1.0543 - val_acc: 0.7381\n",
      "Epoch 14/25\n",
      "40000/40000 [==============================] - 11s - loss: 0.3566 - acc: 0.9703 - val_loss: 1.0364 - val_acc: 0.7396\n",
      "Epoch 15/25\n",
      "40000/40000 [==============================] - 11s - loss: 0.3361 - acc: 0.9736 - val_loss: 1.0811 - val_acc: 0.7398\n",
      "Epoch 16/25\n",
      "40000/40000 [==============================] - 11s - loss: 0.3051 - acc: 0.9804 - val_loss: 1.1058 - val_acc: 0.7428\n",
      "Epoch 17/25\n",
      "40000/40000 [==============================] - 11s - loss: 0.2786 - acc: 0.9843 - val_loss: 1.0749 - val_acc: 0.7458\n",
      "Epoch 18/25\n",
      "40000/40000 [==============================] - 11s - loss: 0.2544 - acc: 0.9878 - val_loss: 1.1760 - val_acc: 0.7400\n",
      "Epoch 19/25\n",
      "40000/40000 [==============================] - 11s - loss: 0.2349 - acc: 0.9892 - val_loss: 1.1478 - val_acc: 0.7411\n",
      "Epoch 20/25\n",
      "40000/40000 [==============================] - 11s - loss: 0.2209 - acc: 0.9895 - val_loss: 1.0806 - val_acc: 0.7508\n",
      "Epoch 21/25\n",
      "40000/40000 [==============================] - 11s - loss: 0.2188 - acc: 0.9881 - val_loss: 1.1324 - val_acc: 0.7577\n",
      "Epoch 22/25\n",
      "40000/40000 [==============================] - 11s - loss: 0.1975 - acc: 0.9921 - val_loss: 1.1477 - val_acc: 0.7491\n",
      "Epoch 23/25\n",
      "40000/40000 [==============================] - 11s - loss: 0.1817 - acc: 0.9938 - val_loss: 1.1288 - val_acc: 0.7531\n",
      "Epoch 24/25\n",
      "40000/40000 [==============================] - 11s - loss: 0.1618 - acc: 0.9968 - val_loss: 1.1199 - val_acc: 0.7623\n",
      "Epoch 25/25\n",
      "40000/40000 [==============================] - 11s - loss: 0.1457 - acc: 0.9974 - val_loss: 1.1074 - val_acc: 0.7636\n",
      "CPU times: user 4min 10s, sys: 55.6 s, total: 5min 6s\n",
      "Wall time: 5min\n",
      "10000/10000 [==============================] - 1s     \n",
      "\n",
      "Test loss: 1.144\n",
      "Test accuracy: 0.757\n"
     ]
    }
   ],
   "source": [
    "l2_model = gen_nn(dropout=False, maxout=False, weight_constraint=False, l2_reg=True, l2_coef=0.005)\n",
    "%time l2_his = l2_model.fit(X_train, y_train, \\\n",
    "          batch_size=batch_size, \\\n",
    "          nb_epoch=nb_epoch, \\\n",
    "          validation_data=(X_valid, y_valid), \\\n",
    "          shuffle=True) \\\n",
    "\n",
    "# evaluate our model\n",
    "score = l2_model.evaluate(X_test, y_test, verbose=1)\n",
    "print('\\nTest loss: %.3f' % score[0])\n",
    "print('Test accuracy: %.3f' % score[1])"
   ]
  },
  {
   "cell_type": "code",
   "execution_count": 30,
   "metadata": {
    "collapsed": false
   },
   "outputs": [
    {
     "data": {
      "image/png": "[encoded data removed]",
      "text/plain": [
       "<matplotlib.figure.Figure at 0x7fa44620e278>"
      ]
     },
     "metadata": {},
     "output_type": "display_data"
    }
   ],
   "source": [
    "def plot_validation_history(his, fig_path):\n",
    "    train_loss = his.history['loss']\n",
    "    val_loss = his.history['val_loss']\n",
    "\n",
    "    # visualize training history\n",
    "    plt.plot(range(1, len(train_loss)+1), train_loss, color='blue', label='Train loss')\n",
    "    plt.plot(range(1, len(val_loss)+1), val_loss, color='red', label='Val loss')\n",
    "    plt.legend(loc=\"upper right\")\n",
    "    plt.xlabel('#Epoch')\n",
    "    plt.ylabel('Loss')\n",
    "    plt.savefig(fig_path, dpi=300)\n",
    "    plt.show()\n",
    "plot_validation_history(l2_his, './output/fig-nn-val-l2.png')"
   ]
  },
  {
   "cell_type": "code",
   "execution_count": 14,
   "metadata": {
    "collapsed": false
   },
   "outputs": [
    {
     "name": "stdout",
     "output_type": "stream",
     "text": [
      "Train on 40000 samples, validate on 10000 samples\n",
      "Epoch 1/25\n",
      "40000/40000 [==============================] - 11s - loss: 12.1003 - acc: 0.1802 - val_loss: 2.0612 - val_acc: 0.1820\n",
      "Epoch 2/25\n",
      "40000/40000 [==============================] - 11s - loss: 2.1075 - acc: 0.1997 - val_loss: 1.8877 - val_acc: 0.2095\n",
      "Epoch 3/25\n",
      "40000/40000 [==============================] - 11s - loss: 2.0156 - acc: 0.2126 - val_loss: 1.9007 - val_acc: 0.2088\n",
      "Epoch 4/25\n",
      "40000/40000 [==============================] - 11s - loss: 1.9700 - acc: 0.2235 - val_loss: 1.8307 - val_acc: 0.2338\n",
      "Epoch 5/25\n",
      "40000/40000 [==============================] - 11s - loss: 1.9328 - acc: 0.2365 - val_loss: 1.8105 - val_acc: 0.2406\n",
      "Epoch 6/25\n",
      "40000/40000 [==============================] - 11s - loss: 1.8985 - acc: 0.2555 - val_loss: 1.7905 - val_acc: 0.2619\n",
      "Epoch 7/25\n",
      "40000/40000 [==============================] - 11s - loss: 1.8653 - acc: 0.2751 - val_loss: 1.8346 - val_acc: 0.2659\n",
      "Epoch 8/25\n",
      "40000/40000 [==============================] - 11s - loss: 1.8333 - acc: 0.2936 - val_loss: 1.7521 - val_acc: 0.2870\n",
      "Epoch 9/25\n",
      "40000/40000 [==============================] - 11s - loss: 1.7991 - acc: 0.3060 - val_loss: 1.7665 - val_acc: 0.2980\n",
      "Epoch 10/25\n",
      "40000/40000 [==============================] - 11s - loss: 1.7630 - acc: 0.3242 - val_loss: 1.7051 - val_acc: 0.3175\n",
      "Epoch 11/25\n",
      "40000/40000 [==============================] - 11s - loss: 1.7331 - acc: 0.3366 - val_loss: 1.7257 - val_acc: 0.3198\n",
      "Epoch 12/25\n",
      "40000/40000 [==============================] - 11s - loss: 1.6964 - acc: 0.3505 - val_loss: 1.6470 - val_acc: 0.3454\n",
      "Epoch 13/25\n",
      "40000/40000 [==============================] - 11s - loss: 1.6703 - acc: 0.3602 - val_loss: 1.6319 - val_acc: 0.3478\n",
      "Epoch 14/25\n",
      "40000/40000 [==============================] - 11s - loss: 1.6437 - acc: 0.3674 - val_loss: 1.6010 - val_acc: 0.3658\n",
      "Epoch 15/25\n",
      "40000/40000 [==============================] - 11s - loss: 1.6185 - acc: 0.3779 - val_loss: 1.5937 - val_acc: 0.3537\n",
      "Epoch 16/25\n",
      "40000/40000 [==============================] - 11s - loss: 1.5919 - acc: 0.3867 - val_loss: 1.5737 - val_acc: 0.3664\n",
      "Epoch 17/25\n",
      "40000/40000 [==============================] - 11s - loss: 1.5692 - acc: 0.3961 - val_loss: 1.5818 - val_acc: 0.3772\n",
      "Epoch 18/25\n",
      "40000/40000 [==============================] - 11s - loss: 1.5497 - acc: 0.4039 - val_loss: 1.5789 - val_acc: 0.3844\n",
      "Epoch 19/25\n",
      "40000/40000 [==============================] - 11s - loss: 1.5229 - acc: 0.4158 - val_loss: 1.5559 - val_acc: 0.3843\n",
      "Epoch 20/25\n",
      "40000/40000 [==============================] - 11s - loss: 1.5004 - acc: 0.4242 - val_loss: 1.5420 - val_acc: 0.4057\n",
      "Epoch 21/25\n",
      "40000/40000 [==============================] - 11s - loss: 1.4764 - acc: 0.4335 - val_loss: 1.5566 - val_acc: 0.3929\n",
      "Epoch 22/25\n",
      "40000/40000 [==============================] - 11s - loss: 1.4609 - acc: 0.4368 - val_loss: 1.5652 - val_acc: 0.3949\n",
      "Epoch 23/25\n",
      "40000/40000 [==============================] - 11s - loss: 1.4395 - acc: 0.4441 - val_loss: 1.5696 - val_acc: 0.3942\n",
      "Epoch 24/25\n",
      "40000/40000 [==============================] - 11s - loss: 1.4155 - acc: 0.4533 - val_loss: 1.6005 - val_acc: 0.3846\n",
      "Epoch 25/25\n",
      "40000/40000 [==============================] - 11s - loss: 1.4020 - acc: 0.4582 - val_loss: 1.5393 - val_acc: 0.4028\n",
      "CPU times: user 4min, sys: 53 s, total: 4min 53s\n",
      "Wall time: 4min 47s\n",
      "10000/10000 [==============================] - 1s     \n",
      "\n",
      "Test loss: 1.532\n",
      "Test accuracy: 0.408\n"
     ]
    }
   ],
   "source": [
    "# 0.01 , 0.0055 fail to train(get about acc=0.1) 0.001 over fitting\n",
    "l1_model = gen_nn(l1_reg=True, l1_coef=0.003)\n",
    "%time l1_his = l1_model.fit(X_train, y_train, \\\n",
    "          batch_size=batch_size, \\\n",
    "          nb_epoch=nb_epoch, \\\n",
    "          validation_data=(X_valid, y_valid), \\\n",
    "          shuffle=True) \\\n",
    "\n",
    "# evaluate our model\n",
    "score = l1_model.evaluate(X_test, y_test, verbose=1)\n",
    "print('\\nTest loss: %.3f' % score[0])\n",
    "print('Test accuracy: %.3f' % score[1])\n"
   ]
  },
  {
   "cell_type": "code",
   "execution_count": 15,
   "metadata": {
    "collapsed": false
   },
   "outputs": [
    {
     "data": {
      "image/png": "[encoded data removed]",
      "text/plain": [
       "<matplotlib.figure.Figure at 0x7ff708535d68>"
      ]
     },
     "metadata": {},
     "output_type": "display_data"
    }
   ],
   "source": [
    "plot_validation_history(l1_his, './output/fig-nn-val-l1.png')"
   ]
  },
  {
   "cell_type": "markdown",
   "metadata": {},
   "source": [
    "# Maxout\n",
    "Maxout is called maxout because its output is the max of a set of inputs. It wasa designed by Goodfellow on January 2013. \n",
    "You can simply create a dense layer with maxout by calling the MaxoutDense layer in Keras.\n",
    "A MaxoutDense layer takes the element-wise maximum of nb_feature Dense(input_dim, output_dim) linear layers. This allows the layer to learn a convex, piecewise linear activation function over the inputs.\n",
    "Given an input $v\\subseteq\\mathbb{R}^{d}$, a maxout hidden layer implements the function $h_{i}(x)=\\underset{j\\subseteq[1,k]}{max}z_{ij}$, where $z_{ij}=x^{T}W_{\\text{···}ij}+b_{ij}$, and $W\\subseteq\\mathbb{R}^{d\\times m\\times k}$and $b\\subseteq\\mathbb{R}^{m\\times k}$\n",
    "<img src=\"fig-maxout.png\" width=\"600\">"
   ]
  },
  {
   "cell_type": "code",
   "execution_count": 13,
   "metadata": {
    "collapsed": false
   },
   "outputs": [
    {
     "name": "stdout",
     "output_type": "stream",
     "text": [
      "Train on 40000 samples, validate on 10000 samples\n",
      "Epoch 1/25\n",
      "40000/40000 [==============================] - 10s - loss: 1.6867 - acc: 0.3837 - val_loss: 1.3212 - val_acc: 0.5256\n",
      "Epoch 2/25\n",
      "40000/40000 [==============================] - 10s - loss: 1.1898 - acc: 0.5730 - val_loss: 1.1062 - val_acc: 0.6142\n",
      "Epoch 3/25\n",
      "40000/40000 [==============================] - 10s - loss: 0.9073 - acc: 0.6804 - val_loss: 0.9070 - val_acc: 0.6798\n",
      "Epoch 4/25\n",
      "40000/40000 [==============================] - 10s - loss: 0.6908 - acc: 0.7557 - val_loss: 0.8311 - val_acc: 0.7141\n",
      "Epoch 5/25\n",
      "40000/40000 [==============================] - 10s - loss: 0.4986 - acc: 0.8254 - val_loss: 0.8698 - val_acc: 0.7117\n",
      "Epoch 6/25\n",
      "40000/40000 [==============================] - 10s - loss: 0.3143 - acc: 0.8900 - val_loss: 0.9805 - val_acc: 0.7163\n",
      "Epoch 7/25\n",
      "40000/40000 [==============================] - 10s - loss: 0.1603 - acc: 0.9454 - val_loss: 1.0905 - val_acc: 0.7211\n",
      "Epoch 8/25\n",
      "40000/40000 [==============================] - 10s - loss: 0.0880 - acc: 0.9707 - val_loss: 1.2626 - val_acc: 0.7234\n",
      "Epoch 9/25\n",
      "40000/40000 [==============================] - 10s - loss: 0.0407 - acc: 0.9877 - val_loss: 1.4259 - val_acc: 0.7297\n",
      "Epoch 10/25\n",
      "40000/40000 [==============================] - 10s - loss: 0.0148 - acc: 0.9962 - val_loss: 1.5048 - val_acc: 0.7374\n",
      "Epoch 11/25\n",
      "40000/40000 [==============================] - 10s - loss: 0.0054 - acc: 0.9989 - val_loss: 1.5379 - val_acc: 0.7438\n",
      "Epoch 12/25\n",
      "40000/40000 [==============================] - 10s - loss: 9.3776e-04 - acc: 0.9999 - val_loss: 1.6167 - val_acc: 0.7451\n",
      "Epoch 13/25\n",
      "40000/40000 [==============================] - 10s - loss: 4.0272e-04 - acc: 1.0000 - val_loss: 1.6613 - val_acc: 0.7462\n",
      "Epoch 14/25\n",
      "40000/40000 [==============================] - 10s - loss: 2.8018e-04 - acc: 1.0000 - val_loss: 1.6936 - val_acc: 0.7468\n",
      "Epoch 15/25\n",
      "40000/40000 [==============================] - 10s - loss: 2.2796e-04 - acc: 1.0000 - val_loss: 1.7164 - val_acc: 0.7470\n",
      "Epoch 16/25\n",
      "40000/40000 [==============================] - 10s - loss: 1.9528e-04 - acc: 1.0000 - val_loss: 1.7365 - val_acc: 0.7466\n",
      "Epoch 17/25\n",
      "40000/40000 [==============================] - 10s - loss: 1.7249e-04 - acc: 1.0000 - val_loss: 1.7516 - val_acc: 0.7461\n",
      "Epoch 18/25\n",
      "40000/40000 [==============================] - 10s - loss: 1.5550e-04 - acc: 1.0000 - val_loss: 1.7654 - val_acc: 0.7457\n",
      "Epoch 19/25\n",
      "40000/40000 [==============================] - 10s - loss: 1.4239e-04 - acc: 1.0000 - val_loss: 1.7762 - val_acc: 0.7460\n",
      "Epoch 20/25\n",
      "40000/40000 [==============================] - 10s - loss: 1.3188e-04 - acc: 1.0000 - val_loss: 1.7863 - val_acc: 0.7456\n",
      "Epoch 21/25\n",
      "40000/40000 [==============================] - 10s - loss: 1.2320e-04 - acc: 1.0000 - val_loss: 1.7958 - val_acc: 0.7455\n",
      "Epoch 22/25\n",
      "40000/40000 [==============================] - 10s - loss: 1.1585e-04 - acc: 1.0000 - val_loss: 1.8043 - val_acc: 0.7459\n",
      "Epoch 23/25\n",
      "40000/40000 [==============================] - 10s - loss: 1.0958e-04 - acc: 1.0000 - val_loss: 1.8113 - val_acc: 0.7460\n",
      "Epoch 24/25\n",
      "40000/40000 [==============================] - 10s - loss: 1.0426e-04 - acc: 1.0000 - val_loss: 1.8186 - val_acc: 0.7464\n",
      "Epoch 25/25\n",
      "40000/40000 [==============================] - 10s - loss: 9.9618e-05 - acc: 1.0000 - val_loss: 1.8248 - val_acc: 0.7464\n",
      "CPU times: user 3min 42s, sys: 47.8 s, total: 4min 30s\n",
      "Wall time: 4min 26s\n",
      "10000/10000 [==============================] - 0s     \n",
      "\n",
      "Test loss: 1.907\n",
      "Test accuracy: 0.745\n"
     ]
    },
    {
     "data": {
      "image/png": "[encoded data removed]",
      "text/plain": [
       "<matplotlib.figure.Figure at 0x7efe3025f128>"
      ]
     },
     "metadata": {},
     "output_type": "display_data"
    }
   ],
   "source": [
    "maxout_model = gen_nn(maxout=True)\n",
    "%time maxout_his = maxout_model.fit(X_train, y_train, \\\n",
    "          batch_size=batch_size, \\\n",
    "          nb_epoch=nb_epoch, \\\n",
    "          validation_data=(X_valid, y_valid), \\\n",
    "          shuffle=True) \\\n",
    "\n",
    "# evaluate our model\n",
    "score = maxout_model.evaluate(X_test, y_test, verbose=1)\n",
    "print('\\nTest loss: %.3f' % score[0])\n",
    "print('Test accuracy: %.3f' % score[1])\n",
    "plot_validation_history(maxout_his, './output/fig-nn-val-maxout.png')"
   ]
  },
  {
   "cell_type": "markdown",
   "metadata": {},
   "source": [
    "# Noise\n",
    "We can add noise to our data by data augmentation. We will \"augment\" them via a number of random transformations, so that our model would never see twice the exact same picture. This helps prevent overfitting and helps the model generalize better. This skill is very useful especially when you have very little amount of data.\n",
    "* rotation_range is a value in degrees (0-180), a range within which to randomly rotate pictures\n",
    "* width_shift and height_shift are ranges (as a fraction of total width or height) within which to randomly translate pictures vertically or horizontally\n",
    "* rescale is a value by which we will multiply the data before any other processing. Our original images consist in RGB coefficients in the 0-255, but such values would be too high for our models to process (given a typical learning rate), so we target values between 0 and 1 instead by scaling with a 1/255. factor.\n",
    "* shear_range is for randomly applying shearing transformations\n",
    "* zoom_range is for randomly zooming inside pictures\n",
    "* horizontal_flip is for randomly flipping half of the images horizontally --relevant when there are no assumptions of horizontal assymetry (e.g. real-world pictures).\n",
    "* fill_mode is the strategy used for filling in newly created pixels, which can appear after a rotation or a width/height shift.\n",
    "<img src=\"fig-data-augmentation.png\" width=\"600\">"
   ]
  },
  {
   "cell_type": "code",
   "execution_count": 34,
   "metadata": {
    "collapsed": false
   },
   "outputs": [
    {
     "name": "stdout",
     "output_type": "stream",
     "text": [
      "Epoch 1/25\n",
      "32000/32000 [==============================] - 15s - loss: 2.0218 - acc: 0.2522 - val_loss: 1.6679 - val_acc: 0.4069\n",
      "Epoch 2/25\n",
      "32000/32000 [==============================] - 15s - loss: 1.7277 - acc: 0.3739 - val_loss: 1.5172 - val_acc: 0.4564\n",
      "Epoch 3/25\n",
      "32000/32000 [==============================] - 15s - loss: 1.6033 - acc: 0.4173 - val_loss: 1.3924 - val_acc: 0.5071\n",
      "Epoch 4/25\n",
      "32000/32000 [==============================] - 15s - loss: 1.5110 - acc: 0.4515 - val_loss: 1.2763 - val_acc: 0.5455\n",
      "Epoch 5/25\n",
      "32000/32000 [==============================] - 15s - loss: 1.4219 - acc: 0.4848 - val_loss: 1.1879 - val_acc: 0.5690\n",
      "Epoch 6/25\n",
      "32000/32000 [==============================] - 15s - loss: 1.3522 - acc: 0.5122 - val_loss: 1.1216 - val_acc: 0.5974\n",
      "Epoch 7/25\n",
      "32000/32000 [==============================] - 15s - loss: 1.2870 - acc: 0.5373 - val_loss: 1.0655 - val_acc: 0.6215\n",
      "Epoch 8/25\n",
      "32000/32000 [==============================] - 15s - loss: 1.2448 - acc: 0.5535 - val_loss: 1.0487 - val_acc: 0.6248\n",
      "Epoch 9/25\n",
      "32000/32000 [==============================] - 15s - loss: 1.1969 - acc: 0.5722 - val_loss: 0.9953 - val_acc: 0.6490\n",
      "Epoch 10/25\n",
      "32000/32000 [==============================] - 15s - loss: 1.1626 - acc: 0.5828 - val_loss: 0.9489 - val_acc: 0.6615\n",
      "Epoch 11/25\n",
      "32000/32000 [==============================] - 15s - loss: 1.1298 - acc: 0.5956 - val_loss: 0.9442 - val_acc: 0.6669\n",
      "Epoch 12/25\n",
      "32000/32000 [==============================] - 15s - loss: 1.0973 - acc: 0.6077 - val_loss: 0.8933 - val_acc: 0.6840\n",
      "Epoch 13/25\n",
      "32000/32000 [==============================] - 15s - loss: 1.0718 - acc: 0.6160 - val_loss: 0.8694 - val_acc: 0.6937\n",
      "Epoch 14/25\n",
      "32000/32000 [==============================] - 15s - loss: 1.0437 - acc: 0.6268 - val_loss: 0.8653 - val_acc: 0.6955\n",
      "Epoch 15/25\n",
      "32000/32000 [==============================] - 15s - loss: 1.0258 - acc: 0.6355 - val_loss: 0.8476 - val_acc: 0.7013\n",
      "Epoch 16/25\n",
      "32000/32000 [==============================] - 15s - loss: 1.0099 - acc: 0.6393 - val_loss: 0.8434 - val_acc: 0.7006\n",
      "Epoch 17/25\n",
      "32000/32000 [==============================] - 15s - loss: 0.9896 - acc: 0.6503 - val_loss: 0.8369 - val_acc: 0.7041\n",
      "Epoch 18/25\n",
      "32000/32000 [==============================] - 15s - loss: 0.9689 - acc: 0.6577 - val_loss: 0.8068 - val_acc: 0.7147\n",
      "Epoch 19/25\n",
      "32000/32000 [==============================] - 15s - loss: 0.9519 - acc: 0.6634 - val_loss: 0.7976 - val_acc: 0.7191\n",
      "Epoch 20/25\n",
      "32000/32000 [==============================] - 15s - loss: 0.9425 - acc: 0.6651 - val_loss: 0.7889 - val_acc: 0.7206\n",
      "Epoch 21/25\n",
      "32000/32000 [==============================] - 15s - loss: 0.9328 - acc: 0.6696 - val_loss: 0.7858 - val_acc: 0.7242\n",
      "Epoch 22/25\n",
      "32000/32000 [==============================] - 15s - loss: 0.9140 - acc: 0.6744 - val_loss: 0.7625 - val_acc: 0.7290\n",
      "Epoch 23/25\n",
      "32000/32000 [==============================] - 15s - loss: 0.8989 - acc: 0.6800 - val_loss: 0.7604 - val_acc: 0.7308\n",
      "Epoch 24/25\n",
      "32000/32000 [==============================] - 15s - loss: 0.8911 - acc: 0.6823 - val_loss: 0.7577 - val_acc: 0.7320\n",
      "Epoch 25/25\n",
      "32000/32000 [==============================] - 15s - loss: 0.8874 - acc: 0.6834 - val_loss: 0.7396 - val_acc: 0.7360\n",
      " 9920/10000 [============================>.] - ETA: 0s\n",
      "Test loss: 0.735\n",
      "Test accuracy: 0.740\n"
     ]
    }
   ],
   "source": [
    "from keras.preprocessing.image import ImageDataGenerator\n",
    "base_model = gen_nn()\n",
    "\n",
    "datagen = ImageDataGenerator(\n",
    "        rotation_range=40, \n",
    "        width_shift_range=0.2,\n",
    "        height_shift_range=0.2,\n",
    "        shear_range=0.2,\n",
    "        zoom_range=0.2,\n",
    "        horizontal_flip=True,\n",
    "        fill_mode='nearest')\n",
    "# fit-generator deosn't support validation_rate, so we have to split the validation data by ourself\n",
    "from sklearn.model_selection import train_test_split\n",
    "X_train, X_valid, y_train, y_valid = train_test_split(X_train, y_train, test_size=0.2, random_state=0)\n",
    "aug_his = base_model.fit_generator(datagen.flow(X_train, y_train,\n",
    "                    batch_size=batch_size),\n",
    "                    samples_per_epoch=X_train.shape[0],\n",
    "                    nb_epoch=nb_epoch,\n",
    "                    validation_data=(X_valid, y_valid))\n",
    "# evaluate our model\n",
    "score = base_model.evaluate(X_test, y_test, verbose=1)\n",
    "print('\\nTest loss: %.3f' % score[0])\n",
    "print('Test accuracy: %.3f' % score[1])\n",
    "\n"
   ]
  },
  {
   "cell_type": "code",
   "execution_count": 35,
   "metadata": {
    "collapsed": false
   },
   "outputs": [
    {
     "data": {
      "image/png": "[encoded data removed]",
      "text/plain": [
       "<matplotlib.figure.Figure at 0x7fa46596f898>"
      ]
     },
     "metadata": {},
     "output_type": "display_data"
    }
   ],
   "source": [
    "plot_validation_history(aug_his, './output/fig-nn-val-aug.png')"
   ]
  },
  {
   "cell_type": "markdown",
   "metadata": {},
   "source": [
    "Now you've learned lots of techniques to improve your model, good luck training!"
   ]
  }
 ],
 "metadata": {
  "anaconda-cloud": {},
  "kernelspec": {
   "display_name": "Python 3",
   "language": "python",
   "name": "python3"
  },
  "language_info": {
   "codemirror_mode": {
    "name": "ipython",
    "version": 3
   },
   "file_extension": ".py",
   "mimetype": "text/x-python",
   "name": "python",
   "nbconvert_exporter": "python",
   "pygments_lexer": "ipython3",
   "version": "3.4.5"
  }
 },
 "nbformat": 4,
 "nbformat_minor": 1
}
