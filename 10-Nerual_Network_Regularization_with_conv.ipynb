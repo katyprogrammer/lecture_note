{
 "cells": [
  {
   "cell_type": "markdown",
   "metadata": {},
   "source": [
    "# <center>Regularization in Neural Network</center>\n",
    "<center>Shan-Hung Wu & DataLab<br/>Fall 2016</center>"
   ]
  },
  {
   "cell_type": "code",
   "execution_count": 52,
   "metadata": {
    "collapsed": false
   },
   "outputs": [],
   "source": [
    "from IPython.display import Image\n",
    "from IPython.display import display\n",
    "\n",
    "# inline plotting instead of popping out\n",
    "%matplotlib inline\n",
    "\n",
    "# load utility classes/functions that has been taught in previous labs\n",
    "# e.g., plot_decision_regions()\n",
    "import os, sys\n",
    "module_path = os.path.abspath(os.path.join('.'))\n",
    "sys.path.append(module_path)\n",
    "from lib import *"
   ]
  },
  {
   "cell_type": "markdown",
   "metadata": {},
   "source": [
    "Deep neural network with a large number of parameters is a powerful machine learning system, but over-fitting is a serious issues in such networks. Deep neural network contains many non-linear hidden units and thus they can express very complicated relationships between their inputs and outputs. With limited training data, many of these relationships will be the result of sampling noise, so these relationships exist only on the training dataset, but not on the testing dataset. Large networks are slow, so it's hard for us to deal with the over-fitting issues by training several networks with different architecture and combine their outputs.\n",
    "In this lab, we are going to talk about regularization in neural network.\n",
    "We will introduce some common regularization methods in deep neural network today, which is \n",
    "* Dropout\n",
    "* Weight Decay\n",
    "* Maxout\n",
    "* Noise"
   ]
  },
  {
   "cell_type": "markdown",
   "metadata": {},
   "source": [
    "We will use the CIFAR-10 dataset today for our experiment. [CIFAR-10]() is a object recognition dataset of 10 class. The CIFAR-10 dataset consists of 60000 32x32 color images in 10 classes, with 6000 images per class. There are 50000 training images and 10000 test images. \n",
    "\n",
    "\n",
    "The dataset is divided into five training batches and one test batch, each with 10000 images. The test batch contains exactly 1000 randomly-selected images from each class. The training batches contain the remaining images in random order, but some training batches may contain more images from one class than another. Between them, the training batches contain exactly 5000 images from each class. \n",
    "\n",
    "Here are the classes in the dataset, as well as 10 random images from each:\n",
    "<img src=\"fig-cifar-10.png\" width=\"400\">\n",
    "\n"
   ]
  },
  {
   "cell_type": "markdown",
   "metadata": {},
   "source": [
    "# Loading and Preprocess the CIFAR-10 Dataset\n",
    "\n",
    "## Load Data\n",
    "Set the path for storing the dataset on your machine."
   ]
  },
  {
   "cell_type": "code",
   "execution_count": 53,
   "metadata": {
    "collapsed": true
   },
   "outputs": [],
   "source": [
    "import os\n",
    "from os.path import expanduser\n",
    "home = expanduser('~')\n",
    "data_path = os.path.join(home, \"data/CIFAR-10/\")\n",
    "data_url = \"https://www.cs.toronto.edu/~kriz/cifar-10-python.tar.gz\""
   ]
  },
  {
   "cell_type": "markdown",
   "metadata": {},
   "source": [
    "Set the constants for processing the dataset."
   ]
  },
  {
   "cell_type": "code",
   "execution_count": 54,
   "metadata": {
    "collapsed": false
   },
   "outputs": [],
   "source": [
    "# the width and height of out image\n",
    "img_size = 32\n",
    "# number of channels: red, green and blue\n",
    "img_channels = 3\n",
    "# length of the image after we flatten the image into a 1-dim array\n",
    "img_size_flat = img_size * img_size * img_channels\n",
    "# number of classes\n",
    "nb_classes = 10\n",
    "# number of files in the training dataset\n",
    "nb_files_train = 5\n",
    "# number of images for each batch-file in the training-set.\n",
    "images_per_file = 10000\n",
    "# number of all the images in the training dataset\n",
    "nb_images_train = nb_files_train * images_per_file"
   ]
  },
  {
   "cell_type": "markdown",
   "metadata": {},
   "source": [
    "Download and extract the file. "
   ]
  },
  {
   "cell_type": "code",
   "execution_count": 55,
   "metadata": {
    "collapsed": false
   },
   "outputs": [
    {
     "name": "stdout",
     "output_type": "stream",
     "text": [
      "Data has already been downloaded and unpacked.\n"
     ]
    }
   ],
   "source": [
    "import os\n",
    "# filename for saving the file downloaded from the internet.\n",
    "filename = 'cifar-10-batches-py/'\n",
    "file_path = os.path.join(data_path, filename)\n",
    "\n",
    "# if the file exists then we assume it has also been extracted,\n",
    "# otherwise we need to download and extract it now.\n",
    "if not os.path.exists(file_path):\n",
    "    # check if the download directory exists, otherwise create it.\n",
    "    if not os.path.exists(data_path):\n",
    "        os.makedirs(data_path)\n",
    "\n",
    "    # download the file from the internet.\n",
    "    file_path, _ = urllib.request.urlretrieve(url=data_url,\n",
    "                                              filename=os.path.join(data_path, 'cifar-10-python.tar.gz'),\n",
    "                                              reporthook=_print_download_progress)\n",
    "    print(\"Download finished. Extracting files.\")\n",
    "\n",
    "    if file_path.endswith(\".zip\"):\n",
    "        zipfile.ZipFile(file=file_path, mode=\"r\").extractall(download_dir)\n",
    "    elif file_path.endswith((\".tar.gz\", \".tgz\")):\n",
    "        tarfile.open(name=file_path, mode=\"r:gz\").extractall(download_dir)\n",
    "\n",
    "    print(\"Done.\")\n",
    "else:\n",
    "    print(\"Data has already been downloaded and unpacked.\")"
   ]
  },
  {
   "cell_type": "markdown",
   "metadata": {},
   "source": [
    "Load the classes name in the CIFAR-10 dataset from the metafile."
   ]
  },
  {
   "cell_type": "code",
   "execution_count": 56,
   "metadata": {
    "collapsed": false
   },
   "outputs": [
    {
     "name": "stdout",
     "output_type": "stream",
     "text": [
      "Loading data: /home/greyjoy/data/CIFAR-10/cifar-10-batches-py/batches.meta\n"
     ]
    },
    {
     "data": {
      "text/plain": [
       "['airplane',\n",
       " 'automobile',\n",
       " 'bird',\n",
       " 'cat',\n",
       " 'deer',\n",
       " 'dog',\n",
       " 'frog',\n",
       " 'horse',\n",
       " 'ship',\n",
       " 'truck']"
      ]
     },
     "execution_count": 56,
     "metadata": {},
     "output_type": "execute_result"
    }
   ],
   "source": [
    "import pickle\n",
    "\n",
    "file_path = os.path.join(data_path, \"cifar-10-batches-py/\", \"batches.meta\")\n",
    "\n",
    "print(\"Loading data: \" + file_path)\n",
    "# b means open file in binary mode\n",
    "with open(file_path, mode='rb') as file:\n",
    "    # remember to set the encoding of th file\n",
    "    data = pickle.load(file, encoding='bytes')\n",
    "\n",
    "raw = data[b'label_names']\n",
    "\n",
    "# convert from binary strings.\n",
    "class_names = [x.decode('utf-8') for x in raw]\n",
    "# class_names a list with the names.\n",
    "class_names"
   ]
  },
  {
   "cell_type": "code",
   "execution_count": 57,
   "metadata": {
    "collapsed": false
   },
   "outputs": [
    {
     "name": "stdout",
     "output_type": "stream",
     "text": [
      "Loading data: /home/greyjoy/data/CIFAR-10/cifar-10-batches-py/data_batch_1\n",
      "Loading data: /home/greyjoy/data/CIFAR-10/cifar-10-batches-py/data_batch_2\n",
      "Loading data: /home/greyjoy/data/CIFAR-10/cifar-10-batches-py/data_batch_3\n",
      "Loading data: /home/greyjoy/data/CIFAR-10/cifar-10-batches-py/data_batch_4\n",
      "Loading data: /home/greyjoy/data/CIFAR-10/cifar-10-batches-py/data_batch_5\n"
     ]
    }
   ],
   "source": [
    "import numpy as np\n",
    "from keras.utils import np_utils\n",
    "def load_data(file_name):\n",
    "    \"\"\"\n",
    "    Load a pickled data-file from the CIFAR-10 data-set\n",
    "    and return the converted and the class-number\n",
    "    for each image.\n",
    "    \"\"\"\n",
    "\n",
    "    file_path = os.path.join(data_path, \"cifar-10-batches-py/\", file_name)\n",
    "\n",
    "    print(\"Loading data: \" + file_path)\n",
    "\n",
    "    with open(file_path, mode='rb') as file:    \n",
    "        data = pickle.load(file, encoding='bytes')\n",
    "\n",
    "    raw_images = data[b'data']\n",
    "\n",
    "    # get the class-numbers for each image. Convert to numpy-array.\n",
    "    cls = np.array(data[b'labels'])\n",
    "\n",
    "    # convert the raw images from the data-files to floating-points.\n",
    "    raw_float = np.array(raw_images, dtype=float) / 255.0\n",
    "\n",
    "    # reshape the array to a 4-dim array with shape: [image_number, channel, height, width] where the pixels are floats between 0.0 and 1.0.\n",
    "    images = raw_float.reshape([-1, img_channels, img_size, img_size])\n",
    "\n",
    "    return images, cls\n",
    "\n",
    "def load_training_data():\n",
    "    \"\"\"\n",
    "    Load all the training-data for the CIFAR-10 data-set.\n",
    "    The data-set is split into 5 data-files which are merged here.\n",
    "    Returns the images, class-numbers and one-hot encoded class-labels.\n",
    "    \"\"\"\n",
    "\n",
    "    # pre-allocate the arrays for the images and class-numbers for efficiency.\n",
    "    images = np.zeros(shape=[nb_images_train, img_channels, img_size, img_size], dtype=float)\n",
    "    cls = np.zeros(shape=[nb_images_train], dtype=int)\n",
    "\n",
    "    # begin-index for the current batch.\n",
    "    begin = 0\n",
    "\n",
    "    for i in range(nb_files_train):\n",
    "        \n",
    "        images_batch, cls_batch = load_data(file_name=\"data_batch_\" + str(i + 1))\n",
    "        num_images = len(images_batch)\n",
    "\n",
    "        # End-index for the current batch.\n",
    "        end = begin + num_images\n",
    "\n",
    "        # store the images and class-numbers into the array.\n",
    "        images[begin:end, :] = images_batch\n",
    "        cls[begin:end] = cls_batch\n",
    "\n",
    "        # The begin-index for the next batch is the current end-index.\n",
    "        begin = end\n",
    "\n",
    "    return images, cls, np_utils.to_categorical(cls, nb_classes)\n",
    "X_train, cls_train, y_train = load_training_data()"
   ]
  },
  {
   "cell_type": "markdown",
   "metadata": {},
   "source": [
    "Load the testing dataset using similar method"
   ]
  },
  {
   "cell_type": "code",
   "execution_count": 58,
   "metadata": {
    "collapsed": false
   },
   "outputs": [
    {
     "name": "stdout",
     "output_type": "stream",
     "text": [
      "Loading data: /home/greyjoy/data/CIFAR-10/cifar-10-batches-py/test_batch\n"
     ]
    }
   ],
   "source": [
    "def load_test_data():\n",
    "    \"\"\"\n",
    "    Load all the test-data for the CIFAR-10 data-set.\n",
    "    Returns the images, class-numbers and one-hot encoded class-labels.\n",
    "    \"\"\"\n",
    "\n",
    "    images, cls = load_data(file_name=\"test_batch\")\n",
    "\n",
    "    return images, cls, np_utils.to_categorical(cls, nb_classes)\n",
    "X_test, cls_test, y_test = load_test_data()"
   ]
  },
  {
   "cell_type": "markdown",
   "metadata": {},
   "source": [
    "Print out the size of the training and testing set to check if everything is loaded correctly."
   ]
  },
  {
   "cell_type": "code",
   "execution_count": 59,
   "metadata": {
    "collapsed": false
   },
   "outputs": [
    {
     "name": "stdout",
     "output_type": "stream",
     "text": [
      "Size of:\n",
      "- Training-set:\t\t40000\n",
      "- Validation-set:\t10000\n",
      "- Test-set:\t\t10000\n"
     ]
    }
   ],
   "source": [
    "from sklearn.model_selection import train_test_split\n",
    "\n",
    "# split out validation dataset from training dataset\n",
    "X_train, X_valid, y_train, y_valid = train_test_split(X_train, y_train, test_size=0.2, random_state=0)\n",
    "\n",
    "# check data dimension\n",
    "print(\"Size of:\")\n",
    "print(\"- Training-set:\\t\\t{}\".format(len(X_train)))\n",
    "print(\"- Validation-set:\\t{}\".format(len(X_valid)))\n",
    "print(\"- Test-set:\\t\\t{}\".format(len(X_test)))"
   ]
  },
  {
   "cell_type": "markdown",
   "metadata": {},
   "source": [
    "Now our dataset is ready! Now I am going to introduce the architecture we will be working with today. \n",
    "Before, we have been working with regular neural network where each hidden layer is made up of a set of neurons, and each neuron is fully connected to all neurons in the previous layer.\n",
    "Fully-connected neural network does’t do well on images. In CIFAR-10, images are only of size 3x32x32 (32 wide, 32 high, 3 color channels), so a single fully-connected neuron in a first hidden layer of a regular Neural Network would have 3072 weights. This amount might still seems manageable, but what if today we want to working bigger imaage with size, e.g. 3*256*256, would lead to neurons that have 196,608 weights. Moreover, we usually will have at least a few hundreds neurons for one layer and several layers. The weights add up very quickly this way! Therefore, it will take a long time to train the model, and the model might have serious over fitting issues. Convolutional neural network helps us saving lots of parameter.\n"
   ]
  },
  {
   "cell_type": "markdown",
   "metadata": {},
   "source": [
    "# Layers\n",
    "\n",
    "The architecure follows the pattern INPUT -> [[CONV -> RELU]*N -> POOL?]*M -> [DENSE -> RELU]*K -> OUTPUT\n",
    "\n",
    "* INPUT [3x32x32] will hold the raw pixel values of the image(img_channels, img_width, img_height)\n",
    "* CONV layer will compute the output of neurons that are connected to local regions in the input, each computing a dot product between their weights and a small region they are connected to in the input volume. This may result in volume such as [32x32x12] if we decided to use 12 filters.\n",
    "* RELU layer will apply an elementwise activation function, such as the $max(0,x)$ This leaves the size of the volume unchanged ([32x32x12]).\n",
    "* POOL layer will perform a downsampling operation along the spatial dimensions (width, height), resulting in volume such as [16x16x12].\n",
    "* FLATTEN layer will flatten the input_matrix into volumn [1x1x(number_of_elements_on_last_layer_output))]\n",
    "* DENSE layer will map the input into volumn [1x1x(number_of_neuron_in_DENSE_layer)]. Each neuron in this layer will be connected to all the numbers in the previous volume.\n",
    "* OUTPUT layer will compute the class scores, resulting in volume of size [1x1x10], where each numbers correspond to a class score, such as among the 10 categories of CIFAR-10. \n"
   ]
  },
  {
   "cell_type": "markdown",
   "metadata": {
    "collapsed": true
   },
   "source": [
    "## Convolutional Layers\n",
    "The CONV layer’s parameters consist of a set of filters with learnable weights. Every filter is small spatially (along width and height), but extends through the full depth of the input volume. During the forward pass, we slide each filter across the width and height of the input volume and compute dot products between the entries of the filter and the input at any position. As we slide the filter over the width and height of the input volume we will produce a 2-dimensional activation map that gives the responses of that filter at every spatial position. Intuitively, the network will learn filters that activate when they see some type of visual feature such as an edge of some orientation or a blotch of some color on the first layer, or contour on higher layers of the network. Now, we will have an entire set of filters in each CONV layer (e.g. 12 filters), and each of them will produce a separate 2-dimensional activation map. We will stack these activation maps along the depth dimension and produce the output volume.\n",
    "\n",
    "When dealing with high-dimensional inputs such as images, as we saw above it is impractical to connect neurons to all neurons in the previous volume. Instead, we will connect each neuron to only a local region of the input volume. The spatial extent of this connectivity is a hyper-parameter called the receptive field of the neuron (equivalently this is the filter size). The extent of the connectivity along the depth axis is always equal to the depth of the input volume. The connections are local in space (along width and height), but always full along the entire depth of the input volume.\n",
    "<img src=\"fig-volumn.png\" width=\"800\">\n",
    "<img src=\"fig-spatial-arrangement.png\" width=\"800\">"
   ]
  },
  {
   "cell_type": "markdown",
   "metadata": {},
   "source": [
    "# Pooling layers\n",
    "It is common to insert a Pooling layer between convolutional layers in a convolutional neural network architecture. Its function is to reduce the spatial size of the representation to reduce the amount of parameters and computation in the network. A pooling layer with filters of size 2x2 applied with a stride of 2 downsamples every depth slice in the input by 2 along both width and height by Max operation, discarding 75% of the activations. \n",
    "here is a figure explaining how pooling layers works:\n",
    "<img src=\"fig-maxpooling.png\" width=\"800\">"
   ]
  },
  {
   "cell_type": "code",
   "execution_count": 60,
   "metadata": {
    "collapsed": false
   },
   "outputs": [
    {
     "name": "stdout",
     "output_type": "stream",
     "text": [
      "____________________________________________________________________________________________________\n",
      "Layer (type)                     Output Shape          Param #     Connected to                     \n",
      "====================================================================================================\n",
      "convolution2d_81 (Convolution2D) (None, 32, 32, 32)    896         convolution2d_input_17[0][0]     \n",
      "____________________________________________________________________________________________________\n",
      "convolution2d_82 (Convolution2D) (None, 32, 32, 32)    9248        convolution2d_81[0][0]           \n",
      "____________________________________________________________________________________________________\n",
      "maxpooling2d_49 (MaxPooling2D)   (None, 32, 16, 16)    0           convolution2d_82[0][0]           \n",
      "____________________________________________________________________________________________________\n",
      "convolution2d_83 (Convolution2D) (None, 64, 16, 16)    18496       maxpooling2d_49[0][0]            \n",
      "____________________________________________________________________________________________________\n",
      "maxpooling2d_50 (MaxPooling2D)   (None, 64, 8, 8)      0           convolution2d_83[0][0]           \n",
      "____________________________________________________________________________________________________\n",
      "convolution2d_84 (Convolution2D) (None, 128, 8, 8)     73856       maxpooling2d_50[0][0]            \n",
      "____________________________________________________________________________________________________\n",
      "convolution2d_85 (Convolution2D) (None, 128, 8, 8)     147584      convolution2d_84[0][0]           \n",
      "____________________________________________________________________________________________________\n",
      "maxpooling2d_51 (MaxPooling2D)   (None, 128, 4, 4)     0           convolution2d_85[0][0]           \n",
      "____________________________________________________________________________________________________\n",
      "flatten_17 (Flatten)             (None, 2048)          0           maxpooling2d_51[0][0]            \n",
      "____________________________________________________________________________________________________\n",
      "dense_42 (Dense)                 (None, 1024)          2098176     flatten_17[0][0]                 \n",
      "____________________________________________________________________________________________________\n",
      "dense_43 (Dense)                 (None, 512)           524800      dense_42[0][0]                   \n",
      "____________________________________________________________________________________________________\n",
      "dense_44 (Dense)                 (None, 10)            5130        dense_43[0][0]                   \n",
      "====================================================================================================\n",
      "Total params: 2878186\n",
      "____________________________________________________________________________________________________\n",
      "None\n",
      "Train on 40000 samples, validate on 10000 samples\n",
      "Epoch 1/25\n",
      "40000/40000 [==============================] - 7s - loss: 1.7127 - acc: 0.3750 - val_loss: 1.3539 - val_acc: 0.5047\n",
      "Epoch 2/25\n",
      "40000/40000 [==============================] - 7s - loss: 1.2266 - acc: 0.5596 - val_loss: 1.1644 - val_acc: 0.5872\n",
      "Epoch 3/25\n",
      "40000/40000 [==============================] - 7s - loss: 0.9584 - acc: 0.6605 - val_loss: 1.0086 - val_acc: 0.6395\n",
      "Epoch 4/25\n",
      "40000/40000 [==============================] - 7s - loss: 0.7580 - acc: 0.7339 - val_loss: 0.9088 - val_acc: 0.6947\n",
      "Epoch 5/25\n",
      "40000/40000 [==============================] - 7s - loss: 0.5969 - acc: 0.7921 - val_loss: 0.8058 - val_acc: 0.7273\n",
      "Epoch 6/25\n",
      "40000/40000 [==============================] - 7s - loss: 0.4358 - acc: 0.8461 - val_loss: 0.8522 - val_acc: 0.7348\n",
      "Epoch 7/25\n",
      "40000/40000 [==============================] - 7s - loss: 0.3010 - acc: 0.8934 - val_loss: 0.9333 - val_acc: 0.7354\n",
      "Epoch 8/25\n",
      "40000/40000 [==============================] - 7s - loss: 0.1806 - acc: 0.9375 - val_loss: 1.0518 - val_acc: 0.7359\n",
      "Epoch 9/25\n",
      "40000/40000 [==============================] - 7s - loss: 0.1043 - acc: 0.9653 - val_loss: 1.1583 - val_acc: 0.7387\n",
      "Epoch 10/25\n",
      "40000/40000 [==============================] - 7s - loss: 0.0545 - acc: 0.9827 - val_loss: 1.3434 - val_acc: 0.7400\n",
      "Epoch 11/25\n",
      "40000/40000 [==============================] - 7s - loss: 0.0272 - acc: 0.9922 - val_loss: 1.5193 - val_acc: 0.7444\n",
      "Epoch 12/25\n",
      "40000/40000 [==============================] - 7s - loss: 0.0093 - acc: 0.9980 - val_loss: 1.6174 - val_acc: 0.7354\n",
      "Epoch 13/25\n",
      "40000/40000 [==============================] - 7s - loss: 0.0041 - acc: 0.9993 - val_loss: 1.6487 - val_acc: 0.7522\n",
      "Epoch 14/25\n",
      "40000/40000 [==============================] - 7s - loss: 8.9597e-04 - acc: 0.9999 - val_loss: 1.7008 - val_acc: 0.7538\n",
      "Epoch 15/25\n",
      "40000/40000 [==============================] - 7s - loss: 3.9506e-04 - acc: 1.0000 - val_loss: 1.7451 - val_acc: 0.7538\n",
      "Epoch 16/25\n",
      "40000/40000 [==============================] - 7s - loss: 2.9952e-04 - acc: 1.0000 - val_loss: 1.7732 - val_acc: 0.7546\n",
      "Epoch 17/25\n",
      "40000/40000 [==============================] - 7s - loss: 2.4910e-04 - acc: 1.0000 - val_loss: 1.7992 - val_acc: 0.7545\n",
      "Epoch 18/25\n",
      "40000/40000 [==============================] - 7s - loss: 2.1555e-04 - acc: 1.0000 - val_loss: 1.8154 - val_acc: 0.7550\n",
      "Epoch 19/25\n",
      "40000/40000 [==============================] - 7s - loss: 1.9138e-04 - acc: 1.0000 - val_loss: 1.8307 - val_acc: 0.7553\n",
      "Epoch 20/25\n",
      "40000/40000 [==============================] - 7s - loss: 1.7326e-04 - acc: 1.0000 - val_loss: 1.8432 - val_acc: 0.7554\n",
      "Epoch 21/25\n",
      "40000/40000 [==============================] - 7s - loss: 1.5871e-04 - acc: 1.0000 - val_loss: 1.8548 - val_acc: 0.7554\n",
      "Epoch 22/25\n",
      "40000/40000 [==============================] - 7s - loss: 1.4752e-04 - acc: 1.0000 - val_loss: 1.8655 - val_acc: 0.7553\n",
      "Epoch 23/25\n",
      "40000/40000 [==============================] - 7s - loss: 1.3779e-04 - acc: 1.0000 - val_loss: 1.8744 - val_acc: 0.7552\n",
      "Epoch 24/25\n",
      "40000/40000 [==============================] - 7s - loss: 1.2967e-04 - acc: 1.0000 - val_loss: 1.8828 - val_acc: 0.7551\n",
      "Epoch 25/25\n",
      "40000/40000 [==============================] - 7s - loss: 1.2281e-04 - acc: 1.0000 - val_loss: 1.8894 - val_acc: 0.7550\n",
      "10000/10000 [==============================] - 0s     \n",
      "\n",
      "Training time: 4115.260216 sec\n",
      "Test loss: 1.984\n",
      "Test accuracy: 0.745\n"
     ]
    }
   ],
   "source": [
    "from keras.models import Sequential\n",
    "from keras.layers import Dense, Dropout, Activation, Flatten\n",
    "from keras.layers import Convolution2D, MaxPooling2D, GaussianNoise, MaxoutDense\n",
    "from keras.constraints import maxnorm\n",
    "from keras.regularizers import l1, l2\n",
    "from keras.optimizers import SGD\n",
    "import matplotlib.pyplot as plt\n",
    "import sys\n",
    "import os\n",
    "import time\n",
    "\n",
    "# here are some settings for the network\n",
    "batch_size = 32\n",
    "nb_epoch = 25\n",
    "\n",
    "\n",
    "model = Sequential()\n",
    "model.add(Convolution2D(32, 3, 3, input_shape=(3, 32, 32), activation='relu', border_mode='same'))\n",
    "model.add(Convolution2D(32, 3, 3, activation='relu', border_mode='same'))\n",
    "model.add(MaxPooling2D(pool_size=(2, 2)))\n",
    "model.add(Convolution2D(64, 3, 3, activation='relu', border_mode='same'))\n",
    "model.add(MaxPooling2D(pool_size=(2, 2)))\n",
    "model.add(Convolution2D(128, 3, 3, activation='relu', border_mode='same'))\n",
    "model.add(Convolution2D(128, 3, 3, activation='relu', border_mode='same'))\n",
    "model.add(MaxPooling2D(pool_size=(2, 2)))\n",
    "# flatten the input for feeding into Dense layer\n",
    "model.add(Flatten())\n",
    "model.add(Dense(1024, activation='relu'))\n",
    "model.add(Dense(512, activation='relu'))\n",
    "# output layer\n",
    "model.add(Dense(nb_classes, activation='softmax'))\n",
    "\n",
    "# compile model\n",
    "lrate = 0.01\n",
    "decay = lrate/nb_epoch\n",
    "sgd = SGD(lr=lrate, momentum=0.9, decay=decay, nesterov=False)\n",
    "model.compile(loss='categorical_crossentropy', optimizer=sgd, metrics=['accuracy'])\n",
    "# this is a useful function for inspecting the output shape and the number of parameter of the model\n",
    "print(model.summary())\n",
    "\n",
    "start = time.time()\n",
    "his = model.fit(X_train, y_train, \\\n",
    "          batch_size=batch_size, \\\n",
    "          nb_epoch=nb_epoch, \\\n",
    "          validation_data=(X_valid, y_valid), \\\n",
    "          shuffle=True) \\\n",
    "\n",
    "# evaluate our model\n",
    "score = model.evaluate(X_test, y_test, verbose=1)\n",
    "print('\\nTraining time: %f sec' % float(time.time()-start_time))\n",
    "print('Test loss: %.3f' % score[0])\n",
    "print('Test accuracy: %.3f' % score[1])\n"
   ]
  },
  {
   "cell_type": "code",
   "execution_count": 61,
   "metadata": {
    "collapsed": false,
    "scrolled": true
   },
   "outputs": [
    {
     "data": {
      "image/png": "[encoded data removed]",
      "text/plain": [
       "<matplotlib.figure.Figure at 0x7fad9e0d5208>"
      ]
     },
     "metadata": {},
     "output_type": "display_data"
    }
   ],
   "source": [
    "plot_validation_history(his, './output/fig-nn-val-baseline.png')"
   ]
  },
  {
   "cell_type": "markdown",
   "metadata": {},
   "source": [
    "Apparently we are having the issues of over fitting here. It's a chance for us to learn some regularizations technique here."
   ]
  },
  {
   "cell_type": "markdown",
   "metadata": {},
   "source": [
    "# Dropout\n",
    "Dropout is designed by Geoffrey Hinton.\n",
    "The key idea is to randomly drop some units from the neural network during training, so that the neuron have to function well on its own instead of relying on other neurons. (Just like when you know your teammate is not that reliable, you have to take more responsibility)\n",
    "In a standard neural network, the derivative received by each parameter tells it how it should change so the final loss function is reduced, given what all other units are doing. Therefore, units may change in a way that they fix up the mistakes of the other units. This may lead to complex co-adaptations.\n",
    "Applying dropout to a neural network amounts to sampling a “thinned” network from it. The thinned network consists of all the units that are not dropped out (Figure b). A neural net with $n$ units, can be seen as a collection of  possible thinned neural networks. For each presentation of each training case, a new thinned network is sampled and trained."
   ]
  },
  {
   "cell_type": "markdown",
   "metadata": {},
   "source": [
    "The following figures illustrate the architecture:\n",
    "\n",
    "<img src=\"fig-dropout.png\" width=\"600\">\n",
    "<img src=\"fig-ensemble-of-subnetworks.png\" width=\"600\">\n"
   ]
  },
  {
   "cell_type": "markdown",
   "metadata": {},
   "source": [
    "The choice of which units to drop is random. In the simplest case, each unit is retained with a fixed probability $p$ independent of other units, where $p$ can be chosen using a validation set or can simply be set at 0.5, which seems to be close to optimal for a wide range of networks and tasks.\n",
    "At test time, it is not feasible to explicitly average the predictions from exponentially many thinned models. A very simple approximate averaging method works well in practice. The idea is to use a single neural net at test time **without dropout**. If a unit is retained with probability $p$ during training, the outgoing weights of that unit are multiplied by $p$ at test time as shown in the figure below. This is to ensure that for any hidden unit the expected output (under the distribution used to drop units at training time) is the same as the actual output at test time.\n",
    "<img src=\"fig-weight.png\" width=\"600\">"
   ]
  },
  {
   "cell_type": "markdown",
   "metadata": {},
   "source": [
    "Let's wrap our code into a function with all kinds of regularization method, also, we plug in max pooling layer between convolutional layer"
   ]
  },
  {
   "cell_type": "code",
   "execution_count": 38,
   "metadata": {
    "collapsed": false
   },
   "outputs": [],
   "source": [
    "from keras.models import Sequential\n",
    "from keras.layers import Dense, Dropout, Activation, Flatten\n",
    "from keras.layers import Convolution2D, MaxPooling2D, GaussianNoise, MaxoutDense\n",
    "from keras.constraints import maxnorm\n",
    "from keras.regularizers import l1, l2\n",
    "from keras.optimizers import SGD\n",
    "import matplotlib.pyplot as plt\n",
    "import sys\n",
    "import os\n",
    "import time\n",
    "\n",
    "\n",
    "# here are some settings for the network\n",
    "batch_size = 32\n",
    "nb_epoch = 25\n",
    "\n",
    "def gen_nn(dropout=False, maxout=False, weight_constraint=False, l2_reg=False, l2_coef=0.1, l1_reg=False, l1_coef=0.005):\n",
    "    \"\"\"\n",
    "    Create a model according to the specification.\n",
    "    \"\"\"\n",
    "        \n",
    "    model = Sequential()\n",
    "    model.add(Convolution2D(32, 3, 3, input_shape=(3, 32, 32), activation='relu', border_mode='same'))\n",
    "    if dropout:\n",
    "        model.add(Dropout(0.2))\n",
    "    model.add(Convolution2D(32, 3, 3, activation='relu', border_mode='same'))\n",
    "    model.add(MaxPooling2D(pool_size=(2, 2)))\n",
    "    if dropout:\n",
    "        model.add(Dropout(0.2))\n",
    "    model.add(Convolution2D(64, 3, 3, activation='relu', border_mode='same'))\n",
    "    model.add(MaxPooling2D(pool_size=(2, 2)))\n",
    "    model.add(Convolution2D(128, 3, 3, activation='relu', border_mode='same'))\n",
    "    if dropout:\n",
    "        model.add(Dropout(0.2))\n",
    "    model.add(Convolution2D(128, 3, 3, activation='relu', border_mode='same'))\n",
    "    model.add(MaxPooling2D(pool_size=(2, 2)))\n",
    "    model.add(Flatten())\n",
    "    \n",
    "    if dropout:\n",
    "        model.add(Dropout(0.2))\n",
    "        \n",
    "    if l2_reg:\n",
    "        model.add(Dense(1024, activation='relu', W_regularizer=l2(l2_coef)))  \n",
    "    elif l1_reg:\n",
    "        model.add(Dense(1024, activation='relu', W_regularizer=l1(l1_coef)))          \n",
    "    elif weight_constraint:\n",
    "        model.add(Dense(1024, activation='relu', W_constraint=maxnorm(3)))\n",
    "    elif maxout:\n",
    "        model.add(MaxoutDense(1024, nb_feature=2, init='glorot_uniform'))\n",
    "    else:\n",
    "        model.add(Dense(1024, activation='relu'))\n",
    "\n",
    "    if dropout:\n",
    "        model.add(Dropout(0.25))\n",
    "        \n",
    "    if l2_reg:\n",
    "        model.add(Dense(512, activation='relu', W_regularizer=l2(l2_coef)))  \n",
    "    elif l1_reg:\n",
    "        model.add(Dense(512, activation='relu', W_regularizer=l1(l1_coef)))         \n",
    "    elif weight_constraint:\n",
    "        model.add(Dense(512, activation='relu', W_constraint=maxnorm(3)))\n",
    "    elif maxout:\n",
    "        model.add(MaxoutDense(512, nb_feature=4, init='glorot_uniform'))\n",
    "    else:\n",
    "        model.add(Dense(512, activation='relu'))\n",
    "        \n",
    "    if dropout:\n",
    "        model.add(Dropout(0.25))\n",
    "    # output layer    \n",
    "    model.add(Dense(nb_classes, activation='softmax'))\n",
    "    # compile model\n",
    "    lrate = 0.01\n",
    "    decay = lrate/nb_epoch\n",
    "    sgd = SGD(lr=lrate, momentum=0.9, decay=decay, nesterov=False)\n",
    "    model.compile(loss='categorical_crossentropy', optimizer=sgd, metrics=['accuracy'])\n",
    "    return model"
   ]
  },
  {
   "cell_type": "code",
   "execution_count": 39,
   "metadata": {
    "collapsed": false
   },
   "outputs": [
    {
     "name": "stdout",
     "output_type": "stream",
     "text": [
      "Train on 40000 samples, validate on 10000 samples\n",
      "Epoch 1/25\n",
      "40000/40000 [==============================] - 8s - loss: 1.9043 - acc: 0.2902 - val_loss: 1.7575 - val_acc: 0.3677\n",
      "Epoch 2/25\n",
      "40000/40000 [==============================] - 7s - loss: 1.5078 - acc: 0.4488 - val_loss: 1.3866 - val_acc: 0.4991\n",
      "Epoch 3/25\n",
      "40000/40000 [==============================] - 7s - loss: 1.3424 - acc: 0.5125 - val_loss: 1.2576 - val_acc: 0.5486\n",
      "Epoch 4/25\n",
      "40000/40000 [==============================] - 7s - loss: 1.2169 - acc: 0.5613 - val_loss: 1.1048 - val_acc: 0.6065\n",
      "Epoch 5/25\n",
      "40000/40000 [==============================] - 7s - loss: 1.1067 - acc: 0.6044 - val_loss: 1.0343 - val_acc: 0.6309\n",
      "Epoch 6/25\n",
      "40000/40000 [==============================] - 8s - loss: 1.0176 - acc: 0.6359 - val_loss: 0.9710 - val_acc: 0.6555\n",
      "Epoch 7/25\n",
      "40000/40000 [==============================] - 8s - loss: 0.9406 - acc: 0.6667 - val_loss: 0.9289 - val_acc: 0.6788\n",
      "Epoch 8/25\n",
      "40000/40000 [==============================] - 7s - loss: 0.8709 - acc: 0.6922 - val_loss: 0.8411 - val_acc: 0.7095\n",
      "Epoch 9/25\n",
      "40000/40000 [==============================] - 7s - loss: 0.8233 - acc: 0.7091 - val_loss: 0.8183 - val_acc: 0.7111\n",
      "Epoch 10/25\n",
      "40000/40000 [==============================] - 7s - loss: 0.7765 - acc: 0.7266 - val_loss: 0.8340 - val_acc: 0.7106\n",
      "Epoch 11/25\n",
      "40000/40000 [==============================] - 7s - loss: 0.7338 - acc: 0.7405 - val_loss: 0.7689 - val_acc: 0.7342\n",
      "Epoch 12/25\n",
      "40000/40000 [==============================] - 7s - loss: 0.7019 - acc: 0.7510 - val_loss: 0.7371 - val_acc: 0.7435\n",
      "Epoch 13/25\n",
      "40000/40000 [==============================] - 7s - loss: 0.6670 - acc: 0.7627 - val_loss: 0.7321 - val_acc: 0.7447\n",
      "Epoch 14/25\n",
      "40000/40000 [==============================] - 7s - loss: 0.6481 - acc: 0.7708 - val_loss: 0.7230 - val_acc: 0.7499\n",
      "Epoch 15/25\n",
      "40000/40000 [==============================] - 8s - loss: 0.6127 - acc: 0.7843 - val_loss: 0.7178 - val_acc: 0.7532\n",
      "Epoch 16/25\n",
      "40000/40000 [==============================] - 7s - loss: 0.5963 - acc: 0.7883 - val_loss: 0.7494 - val_acc: 0.7482\n",
      "Epoch 17/25\n",
      "40000/40000 [==============================] - 7s - loss: 0.5722 - acc: 0.7965 - val_loss: 0.6935 - val_acc: 0.7625\n",
      "Epoch 18/25\n",
      "40000/40000 [==============================] - 8s - loss: 0.5489 - acc: 0.8046 - val_loss: 0.6784 - val_acc: 0.7703\n",
      "Epoch 19/25\n",
      "40000/40000 [==============================] - 8s - loss: 0.5352 - acc: 0.8105 - val_loss: 0.6816 - val_acc: 0.7636\n",
      "Epoch 20/25\n",
      "40000/40000 [==============================] - 8s - loss: 0.5123 - acc: 0.8185 - val_loss: 0.6732 - val_acc: 0.7727\n",
      "Epoch 21/25\n",
      "40000/40000 [==============================] - 8s - loss: 0.5016 - acc: 0.8215 - val_loss: 0.6859 - val_acc: 0.7699\n",
      "Epoch 22/25\n",
      "40000/40000 [==============================] - 8s - loss: 0.4840 - acc: 0.8281 - val_loss: 0.6805 - val_acc: 0.7721\n",
      "Epoch 23/25\n",
      "40000/40000 [==============================] - 8s - loss: 0.4684 - acc: 0.8338 - val_loss: 0.6692 - val_acc: 0.7769\n",
      "Epoch 24/25\n",
      "40000/40000 [==============================] - 7s - loss: 0.4547 - acc: 0.8377 - val_loss: 0.6682 - val_acc: 0.7802\n",
      "Epoch 25/25\n",
      "40000/40000 [==============================] - 7s - loss: 0.4464 - acc: 0.8388 - val_loss: 0.6885 - val_acc: 0.7748\n",
      "\n",
      "Training time: 1711.340767 sec\n",
      "\n",
      "Test loss: 0.696\n",
      "Test accuracy: 0.771\n"
     ]
    }
   ],
   "source": [
    "dropout_model = gen_nn(dropout=True)\n",
    "start = time.time()\n",
    "dropout_his = dropout_model.fit(X_train, y_train, \\\n",
    "          batch_size=batch_size, \\\n",
    "          nb_epoch=nb_epoch, \\\n",
    "          validation_data=(X_valid, y_valid), \\\n",
    "          shuffle=True) \\\n",
    "\n",
    "# evaluate our model\n",
    "score = dropout_model.evaluate(X_test, y_test, verbose=0)\n",
    "print('\\nTraining time: %f sec' % float(time.time()-start_time))\n",
    "print('\\nTest loss: %.3f' % score[0])\n",
    "print('Test accuracy: %.3f' % score[1])"
   ]
  },
  {
   "cell_type": "code",
   "execution_count": 40,
   "metadata": {
    "collapsed": false,
    "scrolled": true
   },
   "outputs": [
    {
     "data": {
      "image/png": "[encoded data removed]",
      "text/plain": [
       "<matplotlib.figure.Figure at 0x7fadcb207630>"
      ]
     },
     "metadata": {},
     "output_type": "display_data"
    }
   ],
   "source": [
    "plot_validation_history(dropout_his, './output/fig-nn-val-dropout.png')"
   ]
  },
  {
   "cell_type": "markdown",
   "metadata": {
    "collapsed": true
   },
   "source": [
    "We can see the dropout has a signifanct effect on the result!"
   ]
  },
  {
   "cell_type": "markdown",
   "metadata": {},
   "source": [
    "# Weight Decay\n",
    "Remember we talked about weight decay before? We can penalize large weights using penalties or constraints on their squared values (L2 penalty) or absolute values (L1 penalty).\n",
    "We specify in l1/l2 regularities by passing a regularizer to the layer.\n",
    "```\n",
    "from keras.regularizers import l1, l2 \n",
    "model.add(Dense(64, input_dim=64, W_regularizer=l2(0.01)))\n",
    "```\n",
    "\n",
    "\n",
    "## L2 Regularizer\n",
    "\n",
    "This can often improve generalization a lot because it helps to stop the network from fitting the sampling error and it makes a smoother model in which the output changes more slowly as the input changes.\n",
    "\n",
    "We can gain some insight into the behavior of weight decay regularization by studying the gradient of the regularized objective function. To simplify the presentation, we assume no bias parameter. Such a model has the following total objective function:\n",
    "\n",
    "$$\\tilde{J}(\\mathbf{w};\\mathbf{X},\\mathbf{y})==\\frac{\\alpha}{2}\\mathbf{w}^{T}\\mathbf{w}+J(\\mathbf{w};\\mathbf{X},\\mathbf{y}),$$\n",
    "\n",
    "with the corresponding parameter gradient\n",
    "\n",
    "$$\\text{∇}_{\\mathbf{w}}\\tilde{J}(\\mathbf{w};\\mathbf{X},\\mathbf{y})=α\\mathbf{w}+\\text{∇}_{\\mathbf{w}}J(\\mathbf{w};\\mathbf{X},\\mathbf{y}).$$\n",
    "\n",
    "To take a single gradient step to update the weights, we perform this update:\n",
    "\n",
    "$$\\mathbf{w}←\\mathbf{w}−(α\\mathbf{w}+∇_{\\mathbf{w}}J(\\mathbf{w};\\mathbf{X},\\mathbf{y})).$$\n",
    "\n",
    "Written another way, the update is: \n",
    "\n",
    "$$\\mathbf{w}←(1−α)\\mathbf{w}−∇_{\\mathbf{w}}J(\\mathbf{w};\\mathbf{X},\\mathbf{y})\\Theta$$\n",
    "\n",
    "We can see that the addition of the weight decay term has modiﬁed the learning\n",
    "rule to multiplicatively shrink the weight vector by a constant factor on each step,\n",
    "just before performing the usual gradient update."
   ]
  },
  {
   "cell_type": "code",
   "execution_count": 42,
   "metadata": {
    "collapsed": false
   },
   "outputs": [
    {
     "name": "stdout",
     "output_type": "stream",
     "text": [
      "Train on 40000 samples, validate on 10000 samples\n",
      "Epoch 1/25\n",
      "40000/40000 [==============================] - 11s - loss: 6.0506 - acc: 0.3113 - val_loss: 1.5053 - val_acc: 0.4510\n",
      "Epoch 2/25\n",
      "40000/40000 [==============================] - 11s - loss: 2.1658 - acc: 0.4984 - val_loss: 1.2993 - val_acc: 0.5329\n",
      "Epoch 3/25\n",
      "40000/40000 [==============================] - 11s - loss: 1.4839 - acc: 0.5772 - val_loss: 1.1427 - val_acc: 0.5906\n",
      "Epoch 4/25\n",
      "40000/40000 [==============================] - 11s - loss: 1.2290 - acc: 0.6355 - val_loss: 1.0572 - val_acc: 0.6311\n",
      "Epoch 5/25\n",
      "40000/40000 [==============================] - 11s - loss: 1.0837 - acc: 0.6848 - val_loss: 0.9553 - val_acc: 0.6640\n",
      "Epoch 6/25\n",
      "40000/40000 [==============================] - 11s - loss: 0.9692 - acc: 0.7288 - val_loss: 0.9551 - val_acc: 0.6704\n",
      "Epoch 7/25\n",
      "40000/40000 [==============================] - 11s - loss: 0.8740 - acc: 0.7702 - val_loss: 0.9159 - val_acc: 0.6903\n",
      "Epoch 8/25\n",
      "40000/40000 [==============================] - 11s - loss: 0.7925 - acc: 0.8047 - val_loss: 0.9196 - val_acc: 0.6895\n",
      "Epoch 9/25\n",
      "40000/40000 [==============================] - 11s - loss: 0.7200 - acc: 0.8403 - val_loss: 0.8963 - val_acc: 0.7032\n",
      "Epoch 10/25\n",
      "40000/40000 [==============================] - 11s - loss: 0.6453 - acc: 0.8765 - val_loss: 0.9451 - val_acc: 0.7067\n",
      "Epoch 11/25\n",
      "40000/40000 [==============================] - 11s - loss: 0.5905 - acc: 0.9040 - val_loss: 1.0462 - val_acc: 0.6970\n",
      "Epoch 12/25\n",
      "40000/40000 [==============================] - 11s - loss: 0.5207 - acc: 0.9335 - val_loss: 1.1306 - val_acc: 0.6991\n",
      "Epoch 13/25\n",
      "40000/40000 [==============================] - 11s - loss: 0.4910 - acc: 0.9456 - val_loss: 1.1316 - val_acc: 0.7069\n",
      "Epoch 14/25\n",
      "40000/40000 [==============================] - 11s - loss: 0.4487 - acc: 0.9583 - val_loss: 1.2566 - val_acc: 0.6991\n",
      "Epoch 15/25\n",
      "40000/40000 [==============================] - 11s - loss: 0.4184 - acc: 0.9659 - val_loss: 1.1995 - val_acc: 0.7013\n",
      "Epoch 16/25\n",
      "40000/40000 [==============================] - 11s - loss: 0.3948 - acc: 0.9702 - val_loss: 1.2453 - val_acc: 0.6974\n",
      "Epoch 17/25\n",
      "40000/40000 [==============================] - 11s - loss: 0.3620 - acc: 0.9777 - val_loss: 1.2559 - val_acc: 0.7072\n",
      "Epoch 18/25\n",
      "40000/40000 [==============================] - 11s - loss: 0.3370 - acc: 0.9795 - val_loss: 1.2844 - val_acc: 0.7076\n",
      "Epoch 19/25\n",
      "40000/40000 [==============================] - 11s - loss: 0.3107 - acc: 0.9848 - val_loss: 1.3283 - val_acc: 0.7070\n",
      "Epoch 20/25\n",
      "40000/40000 [==============================] - 11s - loss: 0.2800 - acc: 0.9884 - val_loss: 1.2810 - val_acc: 0.7155\n",
      "Epoch 21/25\n",
      "40000/40000 [==============================] - 11s - loss: 0.2584 - acc: 0.9907 - val_loss: 1.3001 - val_acc: 0.7201\n",
      "Epoch 22/25\n",
      "40000/40000 [==============================] - 11s - loss: 0.2458 - acc: 0.9895 - val_loss: 1.4154 - val_acc: 0.7065\n",
      "Epoch 23/25\n",
      "40000/40000 [==============================] - 11s - loss: 0.2466 - acc: 0.9867 - val_loss: 1.3945 - val_acc: 0.7160\n",
      "Epoch 24/25\n",
      "40000/40000 [==============================] - 11s - loss: 0.2334 - acc: 0.9894 - val_loss: 1.3477 - val_acc: 0.7194\n",
      "Epoch 25/25\n",
      "40000/40000 [==============================] - 11s - loss: 0.2076 - acc: 0.9945 - val_loss: 1.3482 - val_acc: 0.7244\n",
      "10000/10000 [==============================] - 1s     \n",
      "\n",
      "Training time: 3027.823301 sec\n",
      "\n",
      "Test loss: 1.391\n",
      "Test accuracy: 0.716\n"
     ]
    }
   ],
   "source": [
    "l2_model = gen_nn(l2_reg=True, l2_coef=0.005)\n",
    "start = time.time()\n",
    "l2_his = l2_model.fit(X_train, y_train, \\\n",
    "          batch_size=batch_size, \\\n",
    "          nb_epoch=nb_epoch, \\\n",
    "          validation_data=(X_valid, y_valid), \\\n",
    "          shuffle=True) \\\n",
    "\n",
    "# evaluate our model\n",
    "score = l2_model.evaluate(X_test, y_test, verbose=1)\n",
    "print('\\nTraining time: %f sec' % float(time.time()-start_time))\n",
    "print('\\nTest loss: %.3f' % score[0])\n",
    "print('Test accuracy: %.3f' % score[1])"
   ]
  },
  {
   "cell_type": "code",
   "execution_count": 43,
   "metadata": {
    "collapsed": false
   },
   "outputs": [
    {
     "data": {
      "image/png": "[encoded data removed]",
      "text/plain": [
       "<matplotlib.figure.Figure at 0x7fadabb00da0>"
      ]
     },
     "metadata": {},
     "output_type": "display_data"
    }
   ],
   "source": [
    "plot_validation_history(l2_his, './output/fig-nn-val-l2.png')"
   ]
  },
  {
   "cell_type": "markdown",
   "metadata": {},
   "source": [
    "L2 is working, too!"
   ]
  },
  {
   "cell_type": "markdown",
   "metadata": {},
   "source": [
    "##  L1 Regularizer"
   ]
  },
  {
   "cell_type": "code",
   "execution_count": 44,
   "metadata": {
    "collapsed": false
   },
   "outputs": [
    {
     "name": "stdout",
     "output_type": "stream",
     "text": [
      "Train on 40000 samples, validate on 10000 samples\n",
      "Epoch 1/25\n",
      "40000/40000 [==============================] - 11s - loss: 11.2147 - acc: 0.2627 - val_loss: 1.8007 - val_acc: 0.3214\n",
      "Epoch 2/25\n",
      "40000/40000 [==============================] - 11s - loss: 1.7757 - acc: 0.3833 - val_loss: 1.5378 - val_acc: 0.4327\n",
      "Epoch 3/25\n",
      "40000/40000 [==============================] - 11s - loss: 1.5659 - acc: 0.4592 - val_loss: 1.3889 - val_acc: 0.4854\n",
      "Epoch 4/25\n",
      "40000/40000 [==============================] - 11s - loss: 1.4130 - acc: 0.5207 - val_loss: 1.2146 - val_acc: 0.5652\n",
      "Epoch 5/25\n",
      "40000/40000 [==============================] - 11s - loss: 1.2730 - acc: 0.5773 - val_loss: 1.0726 - val_acc: 0.6121\n",
      "Epoch 6/25\n",
      "40000/40000 [==============================] - 11s - loss: 1.1556 - acc: 0.6236 - val_loss: 1.0531 - val_acc: 0.6254\n",
      "Epoch 7/25\n",
      "40000/40000 [==============================] - 11s - loss: 1.0780 - acc: 0.6526 - val_loss: 0.9920 - val_acc: 0.6488\n",
      "Epoch 8/25\n",
      "40000/40000 [==============================] - 11s - loss: 0.9965 - acc: 0.6824 - val_loss: 0.9254 - val_acc: 0.6738\n",
      "Epoch 9/25\n",
      "40000/40000 [==============================] - 11s - loss: 0.9365 - acc: 0.7059 - val_loss: 0.9056 - val_acc: 0.6741\n",
      "Epoch 10/25\n",
      "40000/40000 [==============================] - 11s - loss: 0.8824 - acc: 0.7238 - val_loss: 0.8622 - val_acc: 0.7025\n",
      "Epoch 11/25\n",
      "40000/40000 [==============================] - 11s - loss: 0.8369 - acc: 0.7392 - val_loss: 0.8406 - val_acc: 0.7056\n",
      "Epoch 12/25\n",
      "40000/40000 [==============================] - 11s - loss: 0.7926 - acc: 0.7539 - val_loss: 0.8364 - val_acc: 0.7105\n",
      "Epoch 13/25\n",
      "40000/40000 [==============================] - 11s - loss: 0.7564 - acc: 0.7682 - val_loss: 0.8653 - val_acc: 0.7010\n",
      "Epoch 14/25\n",
      "40000/40000 [==============================] - 11s - loss: 0.7133 - acc: 0.7824 - val_loss: 0.8081 - val_acc: 0.7201\n",
      "Epoch 15/25\n",
      "40000/40000 [==============================] - 11s - loss: 0.6761 - acc: 0.7966 - val_loss: 0.8803 - val_acc: 0.7050\n",
      "Epoch 16/25\n",
      "40000/40000 [==============================] - 11s - loss: 0.6407 - acc: 0.8097 - val_loss: 0.8684 - val_acc: 0.7069\n",
      "Epoch 17/25\n",
      "40000/40000 [==============================] - 11s - loss: 0.6113 - acc: 0.8197 - val_loss: 0.8818 - val_acc: 0.7125\n",
      "Epoch 18/25\n",
      "40000/40000 [==============================] - 11s - loss: 0.5851 - acc: 0.8278 - val_loss: 0.8519 - val_acc: 0.7227\n",
      "Epoch 19/25\n",
      "40000/40000 [==============================] - 11s - loss: 0.5506 - acc: 0.8407 - val_loss: 0.8405 - val_acc: 0.7218\n",
      "Epoch 20/25\n",
      "40000/40000 [==============================] - 11s - loss: 0.5240 - acc: 0.8500 - val_loss: 0.8797 - val_acc: 0.7194\n",
      "Epoch 21/25\n",
      "40000/40000 [==============================] - 11s - loss: 0.4956 - acc: 0.8599 - val_loss: 0.9169 - val_acc: 0.7198\n",
      "Epoch 22/25\n",
      "40000/40000 [==============================] - 11s - loss: 0.4687 - acc: 0.8700 - val_loss: 0.9217 - val_acc: 0.7260\n",
      "Epoch 23/25\n",
      "40000/40000 [==============================] - 11s - loss: 0.4438 - acc: 0.8780 - val_loss: 0.9804 - val_acc: 0.7195\n",
      "Epoch 24/25\n",
      "40000/40000 [==============================] - 11s - loss: 0.4164 - acc: 0.8877 - val_loss: 0.9929 - val_acc: 0.7196\n",
      "Epoch 25/25\n",
      "40000/40000 [==============================] - 11s - loss: 0.3918 - acc: 0.8972 - val_loss: 0.9825 - val_acc: 0.7228\n",
      "10000/10000 [==============================] - 1s     \n",
      "\n",
      "Training time: 3317.382226 sec\n",
      "\n",
      "Test loss: 1.030\n",
      "Test accuracy: 0.718\n"
     ]
    }
   ],
   "source": [
    "l1_model = gen_nn(l1_reg=True, l1_coef=0.001)\n",
    "start = time.time()\n",
    "l1_his = l1_model.fit(X_train, y_train, \\\n",
    "          batch_size=batch_size, \\\n",
    "          nb_epoch=nb_epoch, \\\n",
    "          validation_data=(X_valid, y_valid), \\\n",
    "          shuffle=True) \\\n",
    "\n",
    "# evaluate our model\n",
    "score = l1_model.evaluate(X_test, y_test, verbose=1)\n",
    "print('\\nTraining time: %f sec' % float(time.time()-start_time))\n",
    "print('\\nTest loss: %.3f' % score[0])\n",
    "print('Test accuracy: %.3f' % score[1])\n"
   ]
  },
  {
   "cell_type": "code",
   "execution_count": 45,
   "metadata": {
    "collapsed": false
   },
   "outputs": [
    {
     "data": {
      "image/png": "[encoded data removed]",
      "text/plain": [
       "<matplotlib.figure.Figure at 0x7fadaf6ccb00>"
      ]
     },
     "metadata": {},
     "output_type": "display_data"
    }
   ],
   "source": [
    "plot_validation_history(l1_his, './output/fig-nn-val-l1.png')"
   ]
  },
  {
   "cell_type": "markdown",
   "metadata": {},
   "source": [
    "# Maxout\n",
    "Maxout is called maxout because its output is the max of a set of inputs. It wasa designed by Goodfellow on January 2013. \n",
    "You can simply create a dense layer with maxout by calling the MaxoutDense layer in Keras.\n",
    "A MaxoutDense layer takes the element-wise maximum of nb_feature Dense(input_dim, output_dim) linear layers. This allows the layer to learn a convex, piecewise linear activation function over the inputs.\n",
    "Given an input $v\\subseteq\\mathbb{R}^{d}$, a maxout hidden layer implements the function $h_{i}(x)=\\underset{j\\subseteq[1,k]}{max}z_{ij}$, where $z_{ij}=x^{T}W_{\\text{···}ij}+b_{ij}$, and $W\\subseteq\\mathbb{R}^{d\\times m\\times k}$and $b\\subseteq\\mathbb{R}^{m\\times k}$\n",
    "<img src=\"fig-maxout.png\" width=\"600\">"
   ]
  },
  {
   "cell_type": "code",
   "execution_count": 46,
   "metadata": {
    "collapsed": false
   },
   "outputs": [
    {
     "name": "stdout",
     "output_type": "stream",
     "text": [
      "Train on 40000 samples, validate on 10000 samples\n",
      "Epoch 1/25\n",
      "40000/40000 [==============================] - 11s - loss: 1.8744 - acc: 0.3062 - val_loss: 1.4899 - val_acc: 0.4551\n",
      "Epoch 2/25\n",
      "40000/40000 [==============================] - 11s - loss: 1.4324 - acc: 0.4783 - val_loss: 1.2727 - val_acc: 0.5412\n",
      "Epoch 3/25\n",
      "40000/40000 [==============================] - 11s - loss: 1.2273 - acc: 0.5580 - val_loss: 1.1351 - val_acc: 0.5917\n",
      "Epoch 4/25\n",
      "40000/40000 [==============================] - 11s - loss: 1.0623 - acc: 0.6214 - val_loss: 0.9805 - val_acc: 0.6555\n",
      "Epoch 5/25\n",
      "40000/40000 [==============================] - 11s - loss: 0.9566 - acc: 0.6581 - val_loss: 0.8978 - val_acc: 0.6881\n",
      "Epoch 6/25\n",
      "40000/40000 [==============================] - 11s - loss: 0.8682 - acc: 0.6918 - val_loss: 0.8091 - val_acc: 0.7173\n",
      "Epoch 7/25\n",
      "40000/40000 [==============================] - 11s - loss: 0.8049 - acc: 0.7129 - val_loss: 0.7556 - val_acc: 0.7405\n",
      "Epoch 8/25\n",
      "40000/40000 [==============================] - 11s - loss: 0.7459 - acc: 0.7361 - val_loss: 0.7333 - val_acc: 0.7504\n",
      "Epoch 9/25\n",
      "40000/40000 [==============================] - 11s - loss: 0.6960 - acc: 0.7549 - val_loss: 0.7284 - val_acc: 0.7489\n",
      "Epoch 10/25\n",
      "40000/40000 [==============================] - 11s - loss: 0.6541 - acc: 0.7685 - val_loss: 0.7060 - val_acc: 0.7560\n",
      "Epoch 11/25\n",
      "40000/40000 [==============================] - 11s - loss: 0.6167 - acc: 0.7808 - val_loss: 0.6683 - val_acc: 0.7689\n",
      "Epoch 12/25\n",
      "40000/40000 [==============================] - 11s - loss: 0.5886 - acc: 0.7903 - val_loss: 0.6580 - val_acc: 0.7729\n",
      "Epoch 13/25\n",
      "40000/40000 [==============================] - 11s - loss: 0.5603 - acc: 0.8013 - val_loss: 0.6695 - val_acc: 0.7724\n",
      "Epoch 14/25\n",
      "40000/40000 [==============================] - 11s - loss: 0.5262 - acc: 0.8131 - val_loss: 0.6479 - val_acc: 0.7789\n",
      "Epoch 15/25\n",
      "40000/40000 [==============================] - 11s - loss: 0.5044 - acc: 0.8213 - val_loss: 0.6314 - val_acc: 0.7862\n",
      "Epoch 16/25\n",
      "40000/40000 [==============================] - 11s - loss: 0.4832 - acc: 0.8293 - val_loss: 0.6323 - val_acc: 0.7852\n",
      "Epoch 17/25\n",
      "40000/40000 [==============================] - 11s - loss: 0.4601 - acc: 0.8371 - val_loss: 0.6496 - val_acc: 0.7822\n",
      "Epoch 18/25\n",
      "40000/40000 [==============================] - 11s - loss: 0.4383 - acc: 0.8444 - val_loss: 0.6276 - val_acc: 0.7907\n",
      "Epoch 19/25\n",
      "40000/40000 [==============================] - 11s - loss: 0.4268 - acc: 0.8472 - val_loss: 0.6291 - val_acc: 0.7923\n",
      "Epoch 20/25\n",
      "40000/40000 [==============================] - 11s - loss: 0.4031 - acc: 0.8558 - val_loss: 0.6362 - val_acc: 0.7894\n",
      "Epoch 21/25\n",
      "40000/40000 [==============================] - 11s - loss: 0.3918 - acc: 0.8597 - val_loss: 0.6415 - val_acc: 0.7882\n",
      "Epoch 22/25\n",
      "40000/40000 [==============================] - 11s - loss: 0.3768 - acc: 0.8660 - val_loss: 0.6289 - val_acc: 0.7998\n",
      "Epoch 23/25\n",
      "40000/40000 [==============================] - 11s - loss: 0.3605 - acc: 0.8703 - val_loss: 0.6185 - val_acc: 0.7977\n",
      "Epoch 24/25\n",
      "40000/40000 [==============================] - 11s - loss: 0.3458 - acc: 0.8766 - val_loss: 0.6113 - val_acc: 0.8033\n",
      "Epoch 25/25\n",
      "40000/40000 [==============================] - 11s - loss: 0.3317 - acc: 0.8819 - val_loss: 0.6315 - val_acc: 0.8013\n",
      "10000/10000 [==============================] - 0s     \n",
      "\n",
      "Training time: 3604.539937 sec\n",
      "\n",
      "Test loss: 0.668\n",
      "Test accuracy: 0.792\n"
     ]
    },
    {
     "data": {
      "image/png": "[encoded data removed]",
      "text/plain": [
       "<matplotlib.figure.Figure at 0x7fadb43977f0>"
      ]
     },
     "metadata": {},
     "output_type": "display_data"
    }
   ],
   "source": [
    "maxout_model = gen_nn(maxout=True, dropout=True)\n",
    "start = time.time()\n",
    "maxout_his = maxout_model.fit(X_train, y_train, \\\n",
    "          batch_size=batch_size, \\\n",
    "          nb_epoch=nb_epoch, \\\n",
    "          validation_data=(X_valid, y_valid), \\\n",
    "          shuffle=True) \\\n",
    "\n",
    "# evaluate our model\n",
    "score = maxout_model.evaluate(X_test, y_test, verbose=1)\n",
    "print('\\nTraining time: %f sec' % float(time.time()-start_time))\n",
    "print('\\nTest loss: %.3f' % score[0])\n",
    "print('Test accuracy: %.3f' % score[1])\n",
    "plot_validation_history(maxout_his, './output/fig-nn-val-maxout.png')"
   ]
  },
  {
   "cell_type": "markdown",
   "metadata": {},
   "source": [
    "We can see maxout is helping dropout in this case."
   ]
  },
  {
   "cell_type": "markdown",
   "metadata": {},
   "source": [
    "# Noise\n",
    "We can add noise to our data by data augmentation. We will \"augment\" them via a number of random transformations, so that our model would never see twice the exact same picture. This helps prevent overfitting and helps the model generalize better. This skill is very useful especially when you have very little amount of data.\n",
    "* rotation_range is a value in degrees (0-180), a range within which to randomly rotate pictures\n",
    "* width_shift and height_shift are ranges (as a fraction of total width or height) within which to randomly translate pictures vertically or horizontally\n",
    "* shear_range is for randomly applying shearing transformations\n",
    "* zoom_range is for randomly zooming inside pictures\n",
    "* horizontal_flip is for randomly flipping half of the images horizontally --relevant when there are no assumptions of horizontal assymetry (e.g. real-world pictures).\n",
    "* fill_mode is the strategy used for filling in newly created pixels, which can appear after a rotation or a width/height shift."
   ]
  },
  {
   "cell_type": "markdown",
   "metadata": {},
   "source": [
    "Here are some sample images after data augmentation.\n",
    "<img src=\"fig-data-augmentation.png\" width=\"600\">"
   ]
  },
  {
   "cell_type": "code",
   "execution_count": 47,
   "metadata": {
    "collapsed": false
   },
   "outputs": [
    {
     "name": "stdout",
     "output_type": "stream",
     "text": [
      "Epoch 1/25\n",
      "32000/32000 [==============================] - 10s - loss: 2.0131 - acc: 0.2538 - val_loss: 1.7239 - val_acc: 0.3724\n",
      "Epoch 2/25\n",
      "32000/32000 [==============================] - 10s - loss: 1.7223 - acc: 0.3751 - val_loss: 1.5159 - val_acc: 0.4534\n",
      "Epoch 3/25\n",
      "32000/32000 [==============================] - 10s - loss: 1.5775 - acc: 0.4253 - val_loss: 1.4196 - val_acc: 0.4793\n",
      "Epoch 4/25\n",
      "32000/32000 [==============================] - 10s - loss: 1.4838 - acc: 0.4612 - val_loss: 1.2686 - val_acc: 0.5399\n",
      "Epoch 5/25\n",
      "32000/32000 [==============================] - 10s - loss: 1.4081 - acc: 0.4922 - val_loss: 1.1990 - val_acc: 0.5654\n",
      "Epoch 6/25\n",
      "32000/32000 [==============================] - 10s - loss: 1.3395 - acc: 0.5162 - val_loss: 1.1306 - val_acc: 0.5975\n",
      "Epoch 7/25\n",
      "32000/32000 [==============================] - 10s - loss: 1.2963 - acc: 0.5332 - val_loss: 1.1082 - val_acc: 0.6038\n",
      "Epoch 8/25\n",
      "32000/32000 [==============================] - 10s - loss: 1.2495 - acc: 0.5533 - val_loss: 1.0351 - val_acc: 0.6344\n",
      "Epoch 9/25\n",
      "32000/32000 [==============================] - 10s - loss: 1.2080 - acc: 0.5672 - val_loss: 0.9996 - val_acc: 0.6488\n",
      "Epoch 10/25\n",
      "32000/32000 [==============================] - 10s - loss: 1.1720 - acc: 0.5811 - val_loss: 0.9929 - val_acc: 0.6479\n",
      "Epoch 11/25\n",
      "32000/32000 [==============================] - 10s - loss: 1.1307 - acc: 0.5944 - val_loss: 0.9383 - val_acc: 0.6651\n",
      "Epoch 12/25\n",
      "32000/32000 [==============================] - 10s - loss: 1.1042 - acc: 0.6065 - val_loss: 0.9283 - val_acc: 0.6679\n",
      "Epoch 13/25\n",
      "32000/32000 [==============================] - 10s - loss: 1.0805 - acc: 0.6133 - val_loss: 0.9227 - val_acc: 0.6705\n",
      "Epoch 14/25\n",
      "32000/32000 [==============================] - 10s - loss: 1.0543 - acc: 0.6232 - val_loss: 0.8785 - val_acc: 0.6935\n",
      "Epoch 15/25\n",
      "32000/32000 [==============================] - 10s - loss: 1.0353 - acc: 0.6301 - val_loss: 0.8698 - val_acc: 0.6900\n",
      "Epoch 16/25\n",
      "32000/32000 [==============================] - 10s - loss: 1.0216 - acc: 0.6361 - val_loss: 0.8428 - val_acc: 0.7066\n",
      "Epoch 17/25\n",
      "32000/32000 [==============================] - 10s - loss: 0.9981 - acc: 0.6419 - val_loss: 0.8372 - val_acc: 0.7065\n",
      "Epoch 18/25\n",
      "32000/32000 [==============================] - 10s - loss: 0.9845 - acc: 0.6483 - val_loss: 0.8174 - val_acc: 0.7147\n",
      "Epoch 19/25\n",
      "32000/32000 [==============================] - 10s - loss: 0.9625 - acc: 0.6560 - val_loss: 0.8070 - val_acc: 0.7191\n",
      "Epoch 20/25\n",
      "32000/32000 [==============================] - 10s - loss: 0.9472 - acc: 0.6625 - val_loss: 0.8107 - val_acc: 0.7173\n",
      "Epoch 21/25\n",
      "32000/32000 [==============================] - 10s - loss: 0.9430 - acc: 0.6630 - val_loss: 0.8098 - val_acc: 0.7181\n",
      "Epoch 22/25\n",
      "32000/32000 [==============================] - 10s - loss: 0.9278 - acc: 0.6712 - val_loss: 0.7994 - val_acc: 0.7211\n",
      "Epoch 23/25\n",
      "32000/32000 [==============================] - 10s - loss: 0.9164 - acc: 0.6759 - val_loss: 0.7927 - val_acc: 0.7231\n",
      "Epoch 24/25\n",
      "32000/32000 [==============================] - 10s - loss: 0.9052 - acc: 0.6799 - val_loss: 0.7717 - val_acc: 0.7259\n",
      "Epoch 25/25\n",
      "32000/32000 [==============================] - 10s - loss: 0.8945 - acc: 0.6830 - val_loss: 0.7708 - val_acc: 0.7305\n",
      " 9856/10000 [============================>.] - ETA: 0s\n",
      "Training time: 3866.455015 sec\n",
      "\n",
      "Test loss: 0.779\n",
      "Test accuracy: 0.729\n"
     ]
    }
   ],
   "source": [
    "from keras.preprocessing.image import ImageDataGenerator\n",
    "base_model = gen_nn()\n",
    "\n",
    "datagen = ImageDataGenerator(\n",
    "        rotation_range=40, \n",
    "        width_shift_range=0.2,\n",
    "        height_shift_range=0.2,\n",
    "        shear_range=0.2,\n",
    "        zoom_range=0.2,\n",
    "        horizontal_flip=True,\n",
    "        fill_mode='nearest')\n",
    "# fit-generator deosn't support validation_rate, so we have to split the validation data by ourself\n",
    "from sklearn.model_selection import train_test_split\n",
    "X_train, X_valid, y_train, y_valid = train_test_split(X_train, y_train, test_size=0.2, random_state=0)\n",
    "start = time.time()\n",
    "aug_his = base_model.fit_generator(datagen.flow(X_train, y_train,\n",
    "                    batch_size=batch_size),\n",
    "                    samples_per_epoch=X_train.shape[0],\n",
    "                    nb_epoch=nb_epoch,\n",
    "                    validation_data=(X_valid, y_valid))\n",
    "# evaluate our model\n",
    "score = base_model.evaluate(X_test, y_test, verbose=1)\n",
    "print('\\nTraining time: %f sec' % float(time.time()-start_time))\n",
    "print('\\nTest loss: %.3f' % score[0])\n",
    "print('Test accuracy: %.3f' % score[1])\n",
    "\n"
   ]
  },
  {
   "cell_type": "code",
   "execution_count": 48,
   "metadata": {
    "collapsed": false
   },
   "outputs": [
    {
     "data": {
      "image/png": "[encoded data removed]",
      "text/plain": [
       "<matplotlib.figure.Figure at 0x7fadae863630>"
      ]
     },
     "metadata": {},
     "output_type": "display_data"
    }
   ],
   "source": [
    "plot_validation_history(aug_his, './output/fig-nn-val-aug.png')"
   ]
  },
  {
   "cell_type": "markdown",
   "metadata": {},
   "source": [
    "Now you've learned lots of techniques and layers to improve your model, good luck training!"
   ]
  }
 ],
 "metadata": {
  "anaconda-cloud": {},
  "kernelspec": {
   "display_name": "Python [default]",
   "language": "python",
   "name": "python3"
  },
  "language_info": {
   "codemirror_mode": {
    "name": "ipython",
    "version": 3
   },
   "file_extension": ".py",
   "mimetype": "text/x-python",
   "name": "python",
   "nbconvert_exporter": "python",
   "pygments_lexer": "ipython3",
   "version": "3.5.2"
  }
 },
 "nbformat": 4,
 "nbformat_minor": 1
}
